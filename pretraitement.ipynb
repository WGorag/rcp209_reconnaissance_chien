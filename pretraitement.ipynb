{
 "cells": [
  {
   "cell_type": "code",
   "execution_count": 1,
   "id": "212c3f6b-8b19-4ba3-8f78-06256171d7dd",
   "metadata": {},
   "outputs": [],
   "source": [
    "import pathlib\n",
    "import os\n",
    "os.environ['TF_CPP_MIN_LOG_LEVEL'] = '1' \n",
    "import matplotlib.pyplot as plt\n",
    "import matplotlib.image as mpimg\n",
    "import tensorflow as tf\n",
    "import tarfile\n",
    "from os import path\n",
    "from tensorflow.keras import layers\n",
    "from tensorflow import keras\n",
    "import python_splitter\n",
    "import shutil\n",
    "from tensorflow.keras.models import load_model\n",
    "\n",
    "import zipfile\n",
    "from PIL import Image\n",
    "from bs4 import BeautifulSoup"
   ]
  },
  {
   "cell_type": "code",
   "execution_count": 2,
   "id": "e33dac51-e895-45fc-9f33-ca02ee8eff16",
   "metadata": {
    "tags": []
   },
   "outputs": [],
   "source": [
    "with zipfile.ZipFile('background_archive.zip', 'r') as zip_ref:\n",
    "    for file in zip_ref.filelist:\n",
    "        image = file.filename.split('/')\n",
    "        if image[0] == 'images' and image[1] != '1000097.jpg':\n",
    "            zip_ref.extract(file.filename, path='/data/bg-not_a_dog/')\n"
   ]
  },
  {
   "cell_type": "code",
   "execution_count": 3,
   "id": "e5111013-55e9-4067-aa6d-70c709b7489d",
   "metadata": {
    "tags": []
   },
   "outputs": [
    {
     "name": "stdout",
     "output_type": "stream",
     "text": [
      "714\n"
     ]
    }
   ],
   "source": [
    "if path.isdir('/data/dataset/Images/n99999998-Zzbackground'):\n",
    "    shutil.rmtree(\"/data/dataset/Images/n99999998-Zzbackground\")\n",
    "    \n",
    "os.mkdir('/data/dataset/Images/n99999998-Zzbackground/')\n",
    "    \n",
    "files = os.listdir('bg-not_a_dog/images')\n",
    "i = 1\n",
    "for file in files:\n",
    "    shutil.move(\"/data/bg-not_a_dog/images/\" + file, \"/data/dataset/Images/n99999998-Zzbackground/n99999998_\" + str(i).rjust(4, '0') + \".jpg\")\n",
    "    i += 1\n",
    "    \n",
    "shutil.rmtree(\"bg-not_a_dog\")\n",
    "\n",
    "print(len(os.listdir('/data/dataset/Images/n99999998-Zzbackground')))"
   ]
  },
  {
   "cell_type": "code",
   "execution_count": 4,
   "id": "e56dcc98-cbfa-4fe8-a814-d13fd01858eb",
   "metadata": {
    "tags": []
   },
   "outputs": [],
   "source": [
    "with zipfile.ZipFile('human_archive.zip', 'r') as zip_ref:\n",
    "    for file in zip_ref.filelist:\n",
    "        image = file.filename.split('/')\n",
    "        if image[0] == 'images':\n",
    "            zip_ref.extract(file.filename, path='/data/bg-not_a_dog/')"
   ]
  },
  {
   "cell_type": "code",
   "execution_count": 5,
   "id": "00baa443-ed54-417f-b07c-02f07d1acddd",
   "metadata": {},
   "outputs": [
    {
     "name": "stdout",
     "output_type": "stream",
     "text": [
      "2054\n"
     ]
    }
   ],
   "source": [
    "if path.isdir('/data/dataset/Images/n99999999-Zzhumain'):\n",
    "    shutil.rmtree(\"/data/dataset/Images/n99999999-Zzhumain\")\n",
    "    \n",
    "os.mkdir('/data/dataset/Images/n99999999-Zzhumain/')\n",
    "    \n",
    "files = os.listdir('bg-not_a_dog/images/images')\n",
    "i = 1\n",
    "for file in files:\n",
    "    shutil.move(\"/data/bg-not_a_dog/images/images/\" + file, \"/data/dataset/Images/n99999999-Zzhumain/n99999999_\" + str(i).rjust(4, '0') + \".jpg\")\n",
    "    i += 1\n",
    "    \n",
    "shutil.rmtree(\"bg-not_a_dog\")\n",
    "\n",
    "print(len(os.listdir('/data/dataset/Images/n99999999-Zzhumain')))"
   ]
  },
  {
   "cell_type": "code",
   "execution_count": 6,
   "id": "56eb8c18-9068-4f2e-8af6-d4c094ac4327",
   "metadata": {
    "tags": []
   },
   "outputs": [],
   "source": [
    "with zipfile.ZipFile('human_none_humain_archive.zip', 'r') as zip_ref:\n",
    "    zip_ref.extractall('/data/bg-not_a_dog/')"
   ]
  },
  {
   "cell_type": "code",
   "execution_count": 7,
   "id": "ce4cc4a9-17b3-4c5a-a4d9-0a659033d543",
   "metadata": {
    "tags": []
   },
   "outputs": [
    {
     "name": "stdout",
     "output_type": "stream",
     "text": [
      "1076\n"
     ]
    }
   ],
   "source": [
    "files = os.listdir('bg-not_a_dog/human detection dataset/0')\n",
    "for file in files:\n",
    "    image_png = 'bg-not_a_dog/human detection dataset/0/' + file\n",
    "    image_jpg = 'bg-not_a_dog/human detection dataset/0/' + file.replace('.png', '.jpg')\n",
    "    image = Image.open(image_png)\n",
    "    image = image.convert('RGB')\n",
    "    image.save(image_jpg)\n",
    "    os.remove(image_png)\n",
    "    shutil.move(image_jpg, \"/data/dataset/Images/n99999998-Zzbackground/n99999998_\" + str(i).rjust(4, '0') + \".jpg\")\n",
    "    i += 1\n",
    "    \n",
    "print(len(os.listdir('/data/dataset/Images/n99999998-Zzbackground')))\n",
    "      \n",
    "# files = os.listdir('bg-not_a_dog/human detection dataset/1')\n",
    "# for file in files:\n",
    "#     image_png = 'bg-not_a_dog/human detection dataset/1/' + file\n",
    "#     image_jpg = 'bg-not_a_dog/human detection dataset/1/' + file.replace('.png', '.jpg')\n",
    "#     image = Image.open(image_png)\n",
    "#     image = image.convert('RGB')\n",
    "#     image.save(image_jpg)\n",
    "#     os.remove(image_png)\n",
    "#     shutil.move(image_jpg, \"/data/dataset/Images/n99999999-Zzhuman/n99999999_\" + str(i).rjust(4, '0') + \".jpg\")\n",
    "#     i += 1\n",
    "    \n",
    "# shutil.rmtree(\"bg-not_a_dog\")\n",
    "      \n",
    "# print(len(os.listdir('/data/dataset/Images/n99999999-Zzhuman')))"
   ]
  },
  {
   "cell_type": "code",
   "execution_count": 8,
   "id": "929ee7a1-1e5f-4ab3-b650-1fee9517a75a",
   "metadata": {
    "tags": []
   },
   "outputs": [
    {
     "name": "stdout",
     "output_type": "stream",
     "text": [
      "Dataset installé\n"
     ]
    }
   ],
   "source": [
    "if not path.isdir('annotation'):\n",
    "    data_dir = tf.keras.utils.get_file(\n",
    "        \"annotation.tar\",\n",
    "        \"http://vision.stanford.edu/aditya86/ImageNetDogs/annotation.tar\",\n",
    "        extract=False)\n",
    "    with tarfile.open(data_dir, 'r') as tar_ref:\n",
    "        tar_ref.extractall(path='/data/annotation/')\n",
    "    print('Dataset installé')\n",
    "else:\n",
    "    print('Dataset déja installé')"
   ]
  },
  {
   "cell_type": "code",
   "execution_count": 9,
   "id": "886e1b4a-f957-4c21-90a7-1e7e2c76d63e",
   "metadata": {
    "tags": []
   },
   "outputs": [],
   "source": [
    "if path.isdir('custom_dataset'):\n",
    "    shutil.rmtree(\"custom_dataset\")\n",
    "os.mkdir('custom_dataset')\n",
    "os.mkdir('custom_dataset/Images')\n",
    "\n",
    "directories = os.listdir('annotation/Annotation')\n",
    "for directory in directories:\n",
    "    os.mkdir('custom_dataset/Images/' + directory)\n",
    "    files = os.listdir('annotation/Annotation/' + directory)\n",
    "    for file in files:\n",
    "        old_name = 'annotation/Annotation/' + directory + '/' + file\n",
    "        new_name = 'annotation/Annotation/' + directory + '/' + file + '.xml'\n",
    "        os.rename(old_name, new_name)\n",
    "        if path.exists(\"dataset/Images/\" + directory + '/' + file + '.jpg'):\n",
    "            with open(new_name, 'r') as f:\n",
    "                data = f.read()\n",
    "            Bs_data = BeautifulSoup(data, \"xml\")\n",
    "            boxes = Bs_data.find('xmin')\n",
    "            for i in range(len(boxes)):\n",
    "                xmin = int(str(Bs_data.find_all('xmin')[i]).replace('<xmin>', '').replace('</xmin>', ''))\n",
    "                ymin = int(str(Bs_data.find_all('ymin')[i]).replace('<ymin>', '').replace('</ymin>', ''))\n",
    "                xmax = int(str(Bs_data.find_all('xmax')[i]).replace('<xmax>', '').replace('</xmax>', ''))\n",
    "                ymax = int(str(Bs_data.find_all('ymax')[i]).replace('<ymax>', '').replace('</ymax>', ''))\n",
    "                image = Image.open(r\"dataset/Images/\" + directory + \"/\" + file + \".jpg\")\n",
    "                image = image.convert('RGB')\n",
    "                image = image.crop((xmin, ymin, xmax, ymax))\n",
    "                image.save(\"custom_dataset/Images/\" + directory + \"/\" + file + \".jpg\")\n",
    "                \n",
    "os.rename(new_name, old_name)"
   ]
  }
 ],
 "metadata": {
  "kernelspec": {
   "display_name": "Python 3 (ipykernel)",
   "language": "python",
   "name": "python3"
  },
  "language_info": {
   "codemirror_mode": {
    "name": "ipython",
    "version": 3
   },
   "file_extension": ".py",
   "mimetype": "text/x-python",
   "name": "python",
   "nbconvert_exporter": "python",
   "pygments_lexer": "ipython3",
   "version": "3.8.10"
  }
 },
 "nbformat": 4,
 "nbformat_minor": 5
}
