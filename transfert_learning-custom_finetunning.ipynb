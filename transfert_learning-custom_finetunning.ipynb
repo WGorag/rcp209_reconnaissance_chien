{
 "cells": [
  {
   "cell_type": "code",
   "execution_count": 1,
   "id": "d26033b6-a92e-4403-a0d9-abee0ff003ae",
   "metadata": {
    "tags": []
   },
   "outputs": [],
   "source": [
    "import pathlib\n",
    "import os\n",
    "os.environ['TF_CPP_MIN_LOG_LEVEL'] = '1' \n",
    "import matplotlib.pyplot as plt\n",
    "import matplotlib.image as mpimg\n",
    "import tensorflow as tf\n",
    "import tarfile\n",
    "from os import path\n",
    "from tensorflow.keras import layers\n",
    "from tensorflow import keras\n",
    "import python_splitter\n",
    "import shutil\n",
    "import numpy as np\n",
    "import pandas as pd\n",
    "import matplotlib.pyplot as plt\n",
    "\n",
    "import tensorflow as tf\n",
    "from tensorflow import keras\n",
    "from tensorflow.keras import layers\n",
    "from keras import callbacks\n",
    "from sklearn.metrics import confusion_matrix\n",
    "\n",
    "from PIL import Image\n",
    "from tensorflow.keras.models import load_model\n",
    "import cv2\n",
    "from tensorflow.keras.models import Model"
   ]
  },
  {
   "cell_type": "code",
   "execution_count": 2,
   "id": "5fa69c55-6ba9-472c-858c-a98e90c305dc",
   "metadata": {
    "tags": []
   },
   "outputs": [],
   "source": [
    "items = os.listdir('custom_dataset/Images')\n",
    "items.sort()\n",
    "dog_categories = [];\n",
    "for item in items:\n",
    "    dog_categories.append(item.split('-')[1])"
   ]
  },
  {
   "cell_type": "code",
   "execution_count": 3,
   "id": "5236bc94-df96-4923-8663-80f2da318e38",
   "metadata": {
    "tags": []
   },
   "outputs": [],
   "source": [
    "class Metrics(keras.callbacks.Callback):\n",
    "    def __init__(self, val_data, dog_categories):\n",
    "        super().__init__()\n",
    "        self.validation_data = val_data\n",
    "    def on_train_begin(self, logs={}):\n",
    "        self._data = {}\n",
    "        for dog_category in dog_categories:\n",
    "                self._data[dog_category] = {\n",
    "                        'vrai positif': 0,\n",
    "                        'faux positif': 0,\n",
    "                        'precision':0\n",
    "                    }\n",
    "\n",
    "    def on_epoch_end(self, batch, logs={}):\n",
    "        for x_test, y_test in self.validation_data:\n",
    "            y_predict = np.asarray(model.predict(x_test, verbose=0))\n",
    "\n",
    "            true = np.argmax(y_test, axis=1)\n",
    "            pred = np.argmax(y_predict, axis=1)\n",
    "            predictions = zip(true, pred);\n",
    "            for test, prediction in predictions:\n",
    "                if test == prediction:\n",
    "                    self._data[dog_categories[test]]['vrai positif'] = self._data[dog_categories[test]]['vrai positif'] + 1\n",
    "                if test != prediction:\n",
    "                    self._data[dog_categories[prediction]]['faux positif'] = self._data[dog_categories[prediction]]['faux positif'] + 1\n",
    "        return\n",
    "\n",
    "    def get_data(self):\n",
    "        for data in self._data:\n",
    "            self._data[data]['precision'] = self._data[data]['vrai positif'] / (self._data[data]['vrai positif'] + self._data[data]['faux positif'])\n",
    "        return self._data"
   ]
  },
  {
   "cell_type": "code",
   "execution_count": 4,
   "id": "51b948f3-c473-4f63-8559-6b381d7bb8c7",
   "metadata": {
    "tags": []
   },
   "outputs": [
    {
     "data": {
      "text/plain": [
       "[PhysicalDevice(name='/physical_device:GPU:0', device_type='GPU')]"
      ]
     },
     "execution_count": 4,
     "metadata": {},
     "output_type": "execute_result"
    }
   ],
   "source": [
    " tf.config.list_physical_devices('GPU')"
   ]
  },
  {
   "cell_type": "code",
   "execution_count": 5,
   "id": "7976264a-05f8-446c-97f2-5dc190b4d4c0",
   "metadata": {
    "tags": []
   },
   "outputs": [
    {
     "name": "stdout",
     "output_type": "stream",
     "text": [
      "✅Checking SOURCE directory...\n",
      "0.7 0 0.25\n",
      "✅Checking percentage validation...\n",
      "✅Making required directories...\n",
      "✅Shuffling data...\n",
      "✅Getting ready for copying files...\n",
      "\n",
      "-------------Successfully splitted !!!--------------- \n"
     ]
    }
   ],
   "source": [
    "if path.isdir('Train_Test_Folder'):\n",
    "    shutil.rmtree(\"Train_Test_Folder\")\n",
    "python_splitter.split_from_folder(\"/data/custom_dataset/Images\", train = 0.7, test = 0.25)"
   ]
  },
  {
   "cell_type": "markdown",
   "id": "87957d29-7086-4c75-b56e-b5dc46d2f66f",
   "metadata": {},
   "source": [
    "Je charge mes datasets"
   ]
  },
  {
   "cell_type": "code",
   "execution_count": 6,
   "id": "af426d46-8886-4cc0-8369-2a53d67a68d0",
   "metadata": {
    "tags": []
   },
   "outputs": [
    {
     "name": "stdout",
     "output_type": "stream",
     "text": [
      "Found 14355 files belonging to 120 classes.\n",
      "Found 1077 files belonging to 120 classes.\n",
      "Found 5148 files belonging to 120 classes.\n"
     ]
    }
   ],
   "source": [
    "BATCH_SIZE = 32\n",
    "IMG_SIZE = 224\n",
    "NB_CLASS = 120\n",
    "train_dataset = tf.keras.preprocessing.image_dataset_from_directory(\n",
    "    pathlib.Path('Train_Test_Folder/train'),\n",
    "    image_size=(IMG_SIZE,IMG_SIZE),\n",
    "    batch_size=BATCH_SIZE,\n",
    "    shuffle=True\n",
    ")\n",
    "\n",
    "test_dataset = tf.keras.preprocessing.image_dataset_from_directory(\n",
    "    pathlib.Path('Train_Test_Folder/test'),\n",
    "    image_size=(IMG_SIZE,IMG_SIZE),\n",
    "    batch_size=BATCH_SIZE,\n",
    "    shuffle=True\n",
    ")\n",
    "\n",
    "validation_dataset = tf.keras.preprocessing.image_dataset_from_directory(\n",
    "    pathlib.Path('Train_Test_Folder/val'),\n",
    "    image_size=(IMG_SIZE,IMG_SIZE),\n",
    "    batch_size=BATCH_SIZE,\n",
    "    shuffle=True\n",
    ")"
   ]
  },
  {
   "cell_type": "code",
   "execution_count": 7,
   "id": "a980223a-d1ec-4378-98e4-55ffaedca61b",
   "metadata": {
    "tags": []
   },
   "outputs": [],
   "source": [
    "AUTOTUNE = tf.data.AUTOTUNE\n",
    "\n",
    "train_dataset = train_dataset.prefetch(buffer_size=AUTOTUNE)\n",
    "validation_dataset = validation_dataset.prefetch(buffer_size=AUTOTUNE)\n",
    "test_dataset = test_dataset.prefetch(buffer_size=AUTOTUNE)"
   ]
  },
  {
   "cell_type": "markdown",
   "id": "5a03332a-0541-4109-ae7b-ac2619ff5195",
   "metadata": {},
   "source": [
    "Je transforme mes classe en one hot"
   ]
  },
  {
   "cell_type": "code",
   "execution_count": 8,
   "id": "0b76e9a8-cbd3-4857-9afc-3e2941d3cdac",
   "metadata": {
    "tags": []
   },
   "outputs": [
    {
     "name": "stdout",
     "output_type": "stream",
     "text": [
      "WARNING:tensorflow:From /usr/local/lib/python3.8/dist-packages/tensorflow/python/autograph/pyct/static_analysis/liveness.py:83: Analyzer.lamba_check (from tensorflow.python.autograph.pyct.static_analysis.liveness) is deprecated and will be removed after 2023-09-23.\n",
      "Instructions for updating:\n",
      "Lambda fuctions will be no more assumed to be used in the statement where they are used, or at least in the same block. https://github.com/tensorflow/tensorflow/issues/56089\n"
     ]
    }
   ],
   "source": [
    "train_dataset = train_dataset.map(lambda x, y: (x, tf.one_hot(y, depth=NB_CLASS)))\n",
    "validation_dataset = validation_dataset.map(lambda x, y: (x, tf.one_hot(y, depth=NB_CLASS)))\n",
    "test_dataset = test_dataset.map(lambda x, y: (x, tf.one_hot(y, depth=NB_CLASS)))"
   ]
  },
  {
   "cell_type": "markdown",
   "id": "2388a197-af29-4daf-b918-a03ffebeaec7",
   "metadata": {},
   "source": [
    "Utilisation de mobilenet v2"
   ]
  },
  {
   "cell_type": "code",
   "execution_count": 9,
   "id": "693f2279-3828-4415-93de-128bdf4507ac",
   "metadata": {},
   "outputs": [
    {
     "name": "stdout",
     "output_type": "stream",
     "text": [
      "WARNING:tensorflow:Using a while_loop for converting RngReadAndSkip cause there is no registered converter for this op.\n",
      "WARNING:tensorflow:Using a while_loop for converting Bitcast cause there is no registered converter for this op.\n",
      "WARNING:tensorflow:Using a while_loop for converting Bitcast cause there is no registered converter for this op.\n",
      "WARNING:tensorflow:Using a while_loop for converting StatelessRandomUniformV2 cause there is no registered converter for this op.\n",
      "WARNING:tensorflow:Using a while_loop for converting ImageProjectiveTransformV3 cause there is no registered converter for this op.\n",
      "WARNING:tensorflow:Using a while_loop for converting RngReadAndSkip cause there is no registered converter for this op.\n",
      "WARNING:tensorflow:Using a while_loop for converting Bitcast cause there is no registered converter for this op.\n",
      "WARNING:tensorflow:Using a while_loop for converting Bitcast cause there is no registered converter for this op.\n",
      "WARNING:tensorflow:Using a while_loop for converting StatelessRandomUniformV2 cause there is no registered converter for this op.\n",
      "WARNING:tensorflow:Using a while_loop for converting RngReadAndSkip cause there is no registered converter for this op.\n",
      "WARNING:tensorflow:Using a while_loop for converting Bitcast cause there is no registered converter for this op.\n",
      "WARNING:tensorflow:Using a while_loop for converting Bitcast cause there is no registered converter for this op.\n",
      "WARNING:tensorflow:Using a while_loop for converting StatelessRandomUniformV2 cause there is no registered converter for this op.\n",
      "WARNING:tensorflow:Using a while_loop for converting ImageProjectiveTransformV3 cause there is no registered converter for this op.\n",
      "WARNING:tensorflow:Using a while_loop for converting RngReadAndSkip cause there is no registered converter for this op.\n",
      "WARNING:tensorflow:Using a while_loop for converting Bitcast cause there is no registered converter for this op.\n",
      "WARNING:tensorflow:Using a while_loop for converting Bitcast cause there is no registered converter for this op.\n",
      "WARNING:tensorflow:Using a while_loop for converting StatelessRandomUniformV2 cause there is no registered converter for this op.\n"
     ]
    }
   ],
   "source": [
    "model = load_model('Modele_transfert.h5')"
   ]
  },
  {
   "cell_type": "markdown",
   "id": "a04d77f0-df48-4084-b32a-de5200eecbd3",
   "metadata": {},
   "source": [
    "Pour générer des prédictions à partir du bloc d'entités, effectuez une moyenne sur les emplacements spatiaux 5x5 , à l'aide d'une couche tf.keras.layers.GlobalAveragePooling2D pour convertir les entités en un seul vecteur de 1 280 éléments par image."
   ]
  },
  {
   "cell_type": "markdown",
   "id": "a29f6a95-7147-4c29-807d-6914956703d8",
   "metadata": {},
   "source": [
    "On construit le modèle"
   ]
  },
  {
   "cell_type": "code",
   "execution_count": 10,
   "id": "88036e01-8320-435e-b478-4ee95b558eb3",
   "metadata": {
    "tags": []
   },
   "outputs": [
    {
     "data": {
      "text/plain": [
       "4"
      ]
     },
     "execution_count": 10,
     "metadata": {},
     "output_type": "execute_result"
    }
   ],
   "source": [
    "len(model.trainable_variables)"
   ]
  },
  {
   "cell_type": "code",
   "execution_count": 11,
   "id": "d58d8911-978a-482e-b0e0-e354148d19d8",
   "metadata": {
    "tags": []
   },
   "outputs": [
    {
     "data": {
      "text/plain": [
       "176"
      ]
     },
     "execution_count": 11,
     "metadata": {},
     "output_type": "execute_result"
    }
   ],
   "source": [
    "\n",
    "#5 et 0.00001 pas mal\n",
    "for layer in model.layers[-15:]:\n",
    "    if not isinstance(layer, layers.BatchNormalization):\n",
    "        layer.trainable = True\n",
    "        \n",
    "len(model.trainable_variables)"
   ]
  },
  {
   "cell_type": "code",
   "execution_count": 12,
   "id": "ef0ed395-5580-4aec-b07a-6b4cbb23153c",
   "metadata": {},
   "outputs": [
    {
     "name": "stdout",
     "output_type": "stream",
     "text": [
      "34/34 [==============================] - 6s 110ms/step - loss: 0.4329 - categorical_accuracy: 0.8626\n"
     ]
    }
   ],
   "source": [
    "loss0, accuracy0 = model.evaluate(test_dataset)"
   ]
  },
  {
   "cell_type": "code",
   "execution_count": 13,
   "id": "890d6faa-6fc5-44d8-8422-0f68308a3e18",
   "metadata": {
    "tags": []
   },
   "outputs": [],
   "source": [
    "model.compile(optimizer=keras.optimizers.Adam(learning_rate=0.0000075),\n",
    "              loss=keras.losses.CategoricalCrossentropy(),\n",
    "              metrics=[keras.metrics.CategoricalAccuracy()]\n",
    "              )"
   ]
  },
  {
   "cell_type": "code",
   "execution_count": 14,
   "id": "328189d4-8f17-4a36-bd01-d29fd04167c6",
   "metadata": {
    "tags": []
   },
   "outputs": [],
   "source": [
    "earlystopping = callbacks.EarlyStopping(monitor='val_loss', \n",
    "                                        mode='min', \n",
    "                                        patience=5, \n",
    "                                        restore_best_weights=True)"
   ]
  },
  {
   "cell_type": "code",
   "execution_count": 15,
   "id": "8b55735a-ef10-48e9-a59f-81ee71e176e8",
   "metadata": {},
   "outputs": [],
   "source": [
    "metrics = Metrics(val_data = validation_dataset, dog_categories = dog_categories)"
   ]
  },
  {
   "cell_type": "code",
   "execution_count": 16,
   "id": "784ce951-5b9e-4d0c-aee2-c5bbc06eab19",
   "metadata": {
    "tags": []
   },
   "outputs": [
    {
     "name": "stdout",
     "output_type": "stream",
     "text": [
      "Epoch 1/5\n",
      "WARNING:tensorflow:Using a while_loop for converting RngReadAndSkip cause there is no registered converter for this op.\n",
      "WARNING:tensorflow:Using a while_loop for converting Bitcast cause there is no registered converter for this op.\n",
      "WARNING:tensorflow:Using a while_loop for converting Bitcast cause there is no registered converter for this op.\n",
      "WARNING:tensorflow:Using a while_loop for converting StatelessRandomUniformV2 cause there is no registered converter for this op.\n",
      "WARNING:tensorflow:Using a while_loop for converting ImageProjectiveTransformV3 cause there is no registered converter for this op.\n",
      "WARNING:tensorflow:Using a while_loop for converting RngReadAndSkip cause there is no registered converter for this op.\n",
      "WARNING:tensorflow:Using a while_loop for converting Bitcast cause there is no registered converter for this op.\n",
      "WARNING:tensorflow:Using a while_loop for converting Bitcast cause there is no registered converter for this op.\n",
      "WARNING:tensorflow:Using a while_loop for converting StatelessRandomUniformV2 cause there is no registered converter for this op.\n",
      "WARNING:tensorflow:Using a while_loop for converting RngReadAndSkip cause there is no registered converter for this op.\n",
      "WARNING:tensorflow:Using a while_loop for converting Bitcast cause there is no registered converter for this op.\n",
      "WARNING:tensorflow:Using a while_loop for converting Bitcast cause there is no registered converter for this op.\n",
      "WARNING:tensorflow:Using a while_loop for converting StatelessRandomUniformV2 cause there is no registered converter for this op.\n",
      "WARNING:tensorflow:Using a while_loop for converting ImageProjectiveTransformV3 cause there is no registered converter for this op.\n",
      "WARNING:tensorflow:Using a while_loop for converting RngReadAndSkip cause there is no registered converter for this op.\n",
      "WARNING:tensorflow:Using a while_loop for converting Bitcast cause there is no registered converter for this op.\n",
      "WARNING:tensorflow:Using a while_loop for converting Bitcast cause there is no registered converter for this op.\n",
      "WARNING:tensorflow:Using a while_loop for converting StatelessRandomUniformV2 cause there is no registered converter for this op.\n"
     ]
    },
    {
     "name": "stderr",
     "output_type": "stream",
     "text": [
      "2023-02-28 23:18:44.895312: W tensorflow/tsl/framework/bfc_allocator.cc:290] Allocator (GPU_0_bfc) ran out of memory trying to allocate 4.53GiB with freed_by_count=0. The caller indicates that this is not a failure, but this may mean that there could be performance gains if more memory were available.\n",
      "2023-02-28 23:18:44.895358: W tensorflow/tsl/framework/bfc_allocator.cc:290] Allocator (GPU_0_bfc) ran out of memory trying to allocate 4.53GiB with freed_by_count=0. The caller indicates that this is not a failure, but this may mean that there could be performance gains if more memory were available.\n",
      "2023-02-28 23:18:44.920615: W tensorflow/tsl/framework/bfc_allocator.cc:290] Allocator (GPU_0_bfc) ran out of memory trying to allocate 4.66GiB with freed_by_count=0. The caller indicates that this is not a failure, but this may mean that there could be performance gains if more memory were available.\n",
      "2023-02-28 23:18:44.920643: W tensorflow/tsl/framework/bfc_allocator.cc:290] Allocator (GPU_0_bfc) ran out of memory trying to allocate 4.66GiB with freed_by_count=0. The caller indicates that this is not a failure, but this may mean that there could be performance gains if more memory were available.\n"
     ]
    },
    {
     "name": "stdout",
     "output_type": "stream",
     "text": [
      "448/449 [============================>.] - ETA: 0s - loss: 0.9825 - categorical_accuracy: 0.7225"
     ]
    },
    {
     "name": "stderr",
     "output_type": "stream",
     "text": [
      "2023-02-28 23:24:08.572506: W tensorflow/tsl/framework/bfc_allocator.cc:290] Allocator (GPU_0_bfc) ran out of memory trying to allocate 4.56GiB with freed_by_count=0. The caller indicates that this is not a failure, but this may mean that there could be performance gains if more memory were available.\n",
      "2023-02-28 23:24:08.572553: W tensorflow/tsl/framework/bfc_allocator.cc:290] Allocator (GPU_0_bfc) ran out of memory trying to allocate 4.56GiB with freed_by_count=0. The caller indicates that this is not a failure, but this may mean that there could be performance gains if more memory were available.\n",
      "2023-02-28 23:24:09.144137: W tensorflow/tsl/framework/bfc_allocator.cc:290] Allocator (GPU_0_bfc) ran out of memory trying to allocate 4.52GiB with freed_by_count=0. The caller indicates that this is not a failure, but this may mean that there could be performance gains if more memory were available.\n",
      "2023-02-28 23:24:09.144182: W tensorflow/tsl/framework/bfc_allocator.cc:290] Allocator (GPU_0_bfc) ran out of memory trying to allocate 4.52GiB with freed_by_count=0. The caller indicates that this is not a failure, but this may mean that there could be performance gains if more memory were available.\n",
      "2023-02-28 23:24:09.162689: W tensorflow/tsl/framework/bfc_allocator.cc:290] Allocator (GPU_0_bfc) ran out of memory trying to allocate 4.61GiB with freed_by_count=0. The caller indicates that this is not a failure, but this may mean that there could be performance gains if more memory were available.\n",
      "2023-02-28 23:24:09.162718: W tensorflow/tsl/framework/bfc_allocator.cc:290] Allocator (GPU_0_bfc) ran out of memory trying to allocate 4.61GiB with freed_by_count=0. The caller indicates that this is not a failure, but this may mean that there could be performance gains if more memory were available.\n"
     ]
    },
    {
     "name": "stdout",
     "output_type": "stream",
     "text": [
      "449/449 [==============================] - 372s 787ms/step - loss: 0.9824 - categorical_accuracy: 0.7226 - val_loss: 0.4506 - val_categorical_accuracy: 0.8706\n",
      "Epoch 2/5\n",
      "449/449 [==============================] - 346s 771ms/step - loss: 0.8444 - categorical_accuracy: 0.7569 - val_loss: 0.4384 - val_categorical_accuracy: 0.8681\n",
      "Epoch 3/5\n",
      "449/449 [==============================] - 352s 784ms/step - loss: 0.7750 - categorical_accuracy: 0.7744 - val_loss: 0.4376 - val_categorical_accuracy: 0.8697\n",
      "Epoch 4/5\n",
      "449/449 [==============================] - 346s 770ms/step - loss: 0.6940 - categorical_accuracy: 0.7871 - val_loss: 0.4386 - val_categorical_accuracy: 0.8699\n",
      "Epoch 5/5\n",
      "449/449 [==============================] - 346s 771ms/step - loss: 0.6600 - categorical_accuracy: 0.7987 - val_loss: 0.4366 - val_categorical_accuracy: 0.8716\n"
     ]
    }
   ],
   "source": [
    "EPOCHS = 5\n",
    "\n",
    "history = model.fit(train_dataset, \n",
    "                    epochs=EPOCHS, \n",
    "                    validation_data=validation_dataset, \n",
    "                    verbose=1,\n",
    "                    callbacks =[earlystopping, metrics])"
   ]
  },
  {
   "cell_type": "code",
   "execution_count": 17,
   "id": "5bc99553-34ef-4224-9cfe-e2a38b6d1d5d",
   "metadata": {},
   "outputs": [
    {
     "data": {
      "text/plain": [
       "{'Chihuahua': {'vrai positif': 157,\n",
       "  'faux positif': 11,\n",
       "  'precision': 0.9345238095238095},\n",
       " 'Japanese_spaniel': {'vrai positif': 198,\n",
       "  'faux positif': 17,\n",
       "  'precision': 0.9209302325581395},\n",
       " 'Maltese_dog': {'vrai positif': 256,\n",
       "  'faux positif': 18,\n",
       "  'precision': 0.9343065693430657},\n",
       " 'Pekinese': {'vrai positif': 166,\n",
       "  'faux positif': 18,\n",
       "  'precision': 0.9021739130434783},\n",
       " 'Shih': {'vrai positif': 218,\n",
       "  'faux positif': 48,\n",
       "  'precision': 0.8195488721804511},\n",
       " 'Blenheim_spaniel': {'vrai positif': 221,\n",
       "  'faux positif': 14,\n",
       "  'precision': 0.9404255319148936},\n",
       " 'papillon': {'vrai positif': 232,\n",
       "  'faux positif': 6,\n",
       "  'precision': 0.9747899159663865},\n",
       " 'toy_terrier': {'vrai positif': 189,\n",
       "  'faux positif': 18,\n",
       "  'precision': 0.9130434782608695},\n",
       " 'Rhodesian_ridgeback': {'vrai positif': 155,\n",
       "  'faux positif': 40,\n",
       "  'precision': 0.7948717948717948},\n",
       " 'Afghan_hound': {'vrai positif': 293,\n",
       "  'faux positif': 15,\n",
       "  'precision': 0.9512987012987013},\n",
       " 'basset': {'vrai positif': 208,\n",
       "  'faux positif': 13,\n",
       "  'precision': 0.9411764705882353},\n",
       " 'beagle': {'vrai positif': 207,\n",
       "  'faux positif': 77,\n",
       "  'precision': 0.7288732394366197},\n",
       " 'bloodhound': {'vrai positif': 221,\n",
       "  'faux positif': 20,\n",
       "  'precision': 0.91701244813278},\n",
       " 'bluetick': {'vrai positif': 213,\n",
       "  'faux positif': 7,\n",
       "  'precision': 0.9681818181818181},\n",
       " 'black': {'vrai positif': 176,\n",
       "  'faux positif': 9,\n",
       "  'precision': 0.9513513513513514},\n",
       " 'Walker_hound': {'vrai positif': 85, 'faux positif': 15, 'precision': 0.85},\n",
       " 'English_foxhound': {'vrai positif': 167,\n",
       "  'faux positif': 63,\n",
       "  'precision': 0.7260869565217392},\n",
       " 'redbone': {'vrai positif': 145,\n",
       "  'faux positif': 26,\n",
       "  'precision': 0.847953216374269},\n",
       " 'borzoi': {'vrai positif': 167,\n",
       "  'faux positif': 17,\n",
       "  'precision': 0.907608695652174},\n",
       " 'Irish_wolfhound': {'vrai positif': 239,\n",
       "  'faux positif': 67,\n",
       "  'precision': 0.7810457516339869},\n",
       " 'Italian_greyhound': {'vrai positif': 197,\n",
       "  'faux positif': 23,\n",
       "  'precision': 0.8954545454545455},\n",
       " 'whippet': {'vrai positif': 178,\n",
       "  'faux positif': 25,\n",
       "  'precision': 0.8768472906403941},\n",
       " 'Ibizan_hound': {'vrai positif': 224,\n",
       "  'faux positif': 27,\n",
       "  'precision': 0.8924302788844621},\n",
       " 'Norwegian_elkhound': {'vrai positif': 231,\n",
       "  'faux positif': 12,\n",
       "  'precision': 0.9506172839506173},\n",
       " 'otterhound': {'vrai positif': 177,\n",
       "  'faux positif': 28,\n",
       "  'precision': 0.8634146341463415},\n",
       " 'Saluki': {'vrai positif': 233,\n",
       "  'faux positif': 30,\n",
       "  'precision': 0.8859315589353612},\n",
       " 'Scottish_deerhound': {'vrai positif': 239,\n",
       "  'faux positif': 27,\n",
       "  'precision': 0.8984962406015038},\n",
       " 'Weimaraner': {'vrai positif': 198,\n",
       "  'faux positif': 13,\n",
       "  'precision': 0.9383886255924171},\n",
       " 'Staffordshire_bullterrier': {'vrai positif': 146,\n",
       "  'faux positif': 29,\n",
       "  'precision': 0.8342857142857143},\n",
       " 'American_Staffordshire_terrier': {'vrai positif': 161,\n",
       "  'faux positif': 56,\n",
       "  'precision': 0.7419354838709677},\n",
       " 'Bedlington_terrier': {'vrai positif': 220,\n",
       "  'faux positif': 5,\n",
       "  'precision': 0.9777777777777777},\n",
       " 'Border_terrier': {'vrai positif': 212,\n",
       "  'faux positif': 42,\n",
       "  'precision': 0.8346456692913385},\n",
       " 'Kerry_blue_terrier': {'vrai positif': 211,\n",
       "  'faux positif': 18,\n",
       "  'precision': 0.9213973799126638},\n",
       " 'Irish_terrier': {'vrai positif': 189,\n",
       "  'faux positif': 12,\n",
       "  'precision': 0.9402985074626866},\n",
       " 'Norfolk_terrier': {'vrai positif': 165,\n",
       "  'faux positif': 33,\n",
       "  'precision': 0.8333333333333334},\n",
       " 'Norwich_terrier': {'vrai positif': 215,\n",
       "  'faux positif': 54,\n",
       "  'precision': 0.7992565055762082},\n",
       " 'Yorkshire_terrier': {'vrai positif': 156,\n",
       "  'faux positif': 47,\n",
       "  'precision': 0.7684729064039408},\n",
       " 'wire': {'vrai positif': 158,\n",
       "  'faux positif': 14,\n",
       "  'precision': 0.9186046511627907},\n",
       " 'Lakeland_terrier': {'vrai positif': 201,\n",
       "  'faux positif': 57,\n",
       "  'precision': 0.7790697674418605},\n",
       " 'Sealyham_terrier': {'vrai positif': 238,\n",
       "  'faux positif': 15,\n",
       "  'precision': 0.9407114624505929},\n",
       " 'Airedale': {'vrai positif': 217,\n",
       "  'faux positif': 12,\n",
       "  'precision': 0.9475982532751092},\n",
       " 'cairn': {'vrai positif': 220,\n",
       "  'faux positif': 44,\n",
       "  'precision': 0.8333333333333334},\n",
       " 'Australian_terrier': {'vrai positif': 191,\n",
       "  'faux positif': 77,\n",
       "  'precision': 0.7126865671641791},\n",
       " 'Dandie_Dinmont': {'vrai positif': 202,\n",
       "  'faux positif': 17,\n",
       "  'precision': 0.9223744292237442},\n",
       " 'Boston_bull': {'vrai positif': 211,\n",
       "  'faux positif': 31,\n",
       "  'precision': 0.871900826446281},\n",
       " 'miniature_schnauzer': {'vrai positif': 154,\n",
       "  'faux positif': 41,\n",
       "  'precision': 0.7897435897435897},\n",
       " 'giant_schnauzer': {'vrai positif': 168,\n",
       "  'faux positif': 47,\n",
       "  'precision': 0.7813953488372093},\n",
       " 'standard_schnauzer': {'vrai positif': 120,\n",
       "  'faux positif': 37,\n",
       "  'precision': 0.7643312101910829},\n",
       " 'Scotch_terrier': {'vrai positif': 190,\n",
       "  'faux positif': 20,\n",
       "  'precision': 0.9047619047619048},\n",
       " 'Tibetan_terrier': {'vrai positif': 207,\n",
       "  'faux positif': 64,\n",
       "  'precision': 0.7638376383763837},\n",
       " 'silky_terrier': {'vrai positif': 154,\n",
       "  'faux positif': 17,\n",
       "  'precision': 0.9005847953216374},\n",
       " 'soft': {'vrai positif': 174,\n",
       "  'faux positif': 10,\n",
       "  'precision': 0.9456521739130435},\n",
       " 'West_Highland_white_terrier': {'vrai positif': 207,\n",
       "  'faux positif': 37,\n",
       "  'precision': 0.8483606557377049},\n",
       " 'Lhasa': {'vrai positif': 188,\n",
       "  'faux positif': 83,\n",
       "  'precision': 0.6937269372693727},\n",
       " 'flat': {'vrai positif': 166,\n",
       "  'faux positif': 32,\n",
       "  'precision': 0.8383838383838383},\n",
       " 'curly': {'vrai positif': 177,\n",
       "  'faux positif': 17,\n",
       "  'precision': 0.9123711340206185},\n",
       " 'golden_retriever': {'vrai positif': 178,\n",
       "  'faux positif': 35,\n",
       "  'precision': 0.8356807511737089},\n",
       " 'Labrador_retriever': {'vrai positif': 184,\n",
       "  'faux positif': 51,\n",
       "  'precision': 0.7829787234042553},\n",
       " 'Chesapeake_Bay_retriever': {'vrai positif': 181,\n",
       "  'faux positif': 30,\n",
       "  'precision': 0.8578199052132701},\n",
       " 'German_short': {'vrai positif': 175,\n",
       "  'faux positif': 10,\n",
       "  'precision': 0.9459459459459459},\n",
       " 'vizsla': {'vrai positif': 170,\n",
       "  'faux positif': 38,\n",
       "  'precision': 0.8173076923076923},\n",
       " 'English_setter': {'vrai positif': 183,\n",
       "  'faux positif': 24,\n",
       "  'precision': 0.8840579710144928},\n",
       " 'Irish_setter': {'vrai positif': 172,\n",
       "  'faux positif': 14,\n",
       "  'precision': 0.9247311827956989},\n",
       " 'Gordon_setter': {'vrai positif': 186,\n",
       "  'faux positif': 9,\n",
       "  'precision': 0.9538461538461539},\n",
       " 'Brittany_spaniel': {'vrai positif': 169,\n",
       "  'faux positif': 52,\n",
       "  'precision': 0.7647058823529411},\n",
       " 'clumber': {'vrai positif': 180,\n",
       "  'faux positif': 7,\n",
       "  'precision': 0.9625668449197861},\n",
       " 'English_springer': {'vrai positif': 185,\n",
       "  'faux positif': 27,\n",
       "  'precision': 0.8726415094339622},\n",
       " 'Welsh_springer_spaniel': {'vrai positif': 149,\n",
       "  'faux positif': 17,\n",
       "  'precision': 0.8975903614457831},\n",
       " 'cocker_spaniel': {'vrai positif': 170,\n",
       "  'faux positif': 19,\n",
       "  'precision': 0.8994708994708994},\n",
       " 'Sussex_spaniel': {'vrai positif': 167,\n",
       "  'faux positif': 8,\n",
       "  'precision': 0.9542857142857143},\n",
       " 'Irish_water_spaniel': {'vrai positif': 175,\n",
       "  'faux positif': 14,\n",
       "  'precision': 0.9259259259259259},\n",
       " 'kuvasz': {'vrai positif': 146,\n",
       "  'faux positif': 6,\n",
       "  'precision': 0.9605263157894737},\n",
       " 'schipperke': {'vrai positif': 177,\n",
       "  'faux positif': 11,\n",
       "  'precision': 0.9414893617021277},\n",
       " 'groenendael': {'vrai positif': 180,\n",
       "  'faux positif': 13,\n",
       "  'precision': 0.9326424870466321},\n",
       " 'malinois': {'vrai positif': 181,\n",
       "  'faux positif': 26,\n",
       "  'precision': 0.8743961352657005},\n",
       " 'briard': {'vrai positif': 160,\n",
       "  'faux positif': 9,\n",
       "  'precision': 0.9467455621301775},\n",
       " 'kelpie': {'vrai positif': 136,\n",
       "  'faux positif': 56,\n",
       "  'precision': 0.7083333333333334},\n",
       " 'komondor': {'vrai positif': 194,\n",
       "  'faux positif': 5,\n",
       "  'precision': 0.9748743718592965},\n",
       " 'Old_English_sheepdog': {'vrai positif': 194,\n",
       "  'faux positif': 35,\n",
       "  'precision': 0.8471615720524017},\n",
       " 'Shetland_sheepdog': {'vrai positif': 179,\n",
       "  'faux positif': 47,\n",
       "  'precision': 0.7920353982300885},\n",
       " 'collie': {'vrai positif': 132,\n",
       "  'faux positif': 34,\n",
       "  'precision': 0.7951807228915663},\n",
       " 'Border_collie': {'vrai positif': 166,\n",
       "  'faux positif': 35,\n",
       "  'precision': 0.8258706467661692},\n",
       " 'Bouvier_des_Flandres': {'vrai positif': 154,\n",
       "  'faux positif': 46,\n",
       "  'precision': 0.77},\n",
       " 'Rottweiler': {'vrai positif': 173,\n",
       "  'faux positif': 7,\n",
       "  'precision': 0.9611111111111111},\n",
       " 'German_shepherd': {'vrai positif': 171,\n",
       "  'faux positif': 15,\n",
       "  'precision': 0.9193548387096774},\n",
       " 'Doberman': {'vrai positif': 168,\n",
       "  'faux positif': 25,\n",
       "  'precision': 0.8704663212435233},\n",
       " 'miniature_pinscher': {'vrai positif': 199,\n",
       "  'faux positif': 17,\n",
       "  'precision': 0.9212962962962963},\n",
       " 'Greater_Swiss_Mountain_dog': {'vrai positif': 180,\n",
       "  'faux positif': 28,\n",
       "  'precision': 0.8653846153846154},\n",
       " 'Bernese_mountain_dog': {'vrai positif': 254,\n",
       "  'faux positif': 22,\n",
       "  'precision': 0.9202898550724637},\n",
       " 'Appenzeller': {'vrai positif': 148,\n",
       "  'faux positif': 72,\n",
       "  'precision': 0.6727272727272727},\n",
       " 'EntleBucher': {'vrai positif': 195,\n",
       "  'faux positif': 19,\n",
       "  'precision': 0.9112149532710281},\n",
       " 'boxer': {'vrai positif': 146,\n",
       "  'faux positif': 11,\n",
       "  'precision': 0.9299363057324841},\n",
       " 'bull_mastiff': {'vrai positif': 175,\n",
       "  'faux positif': 19,\n",
       "  'precision': 0.9020618556701031},\n",
       " 'Tibetan_mastiff': {'vrai positif': 150,\n",
       "  'faux positif': 14,\n",
       "  'precision': 0.9146341463414634},\n",
       " 'French_bulldog': {'vrai positif': 185,\n",
       "  'faux positif': 44,\n",
       "  'precision': 0.8078602620087336},\n",
       " 'Great_Dane': {'vrai positif': 175,\n",
       "  'faux positif': 39,\n",
       "  'precision': 0.8177570093457944},\n",
       " 'Saint_Bernard': {'vrai positif': 200, 'faux positif': 0, 'precision': 1.0},\n",
       " 'Eskimo_dog': {'vrai positif': 102,\n",
       "  'faux positif': 86,\n",
       "  'precision': 0.5425531914893617},\n",
       " 'malamute': {'vrai positif': 187,\n",
       "  'faux positif': 39,\n",
       "  'precision': 0.827433628318584},\n",
       " 'Siberian_husky': {'vrai positif': 149,\n",
       "  'faux positif': 86,\n",
       "  'precision': 0.6340425531914894},\n",
       " 'affenpinscher': {'vrai positif': 161,\n",
       "  'faux positif': 13,\n",
       "  'precision': 0.9252873563218391},\n",
       " 'basenji': {'vrai positif': 255,\n",
       "  'faux positif': 33,\n",
       "  'precision': 0.8854166666666666},\n",
       " 'pug': {'vrai positif': 241,\n",
       "  'faux positif': 10,\n",
       "  'precision': 0.9601593625498008},\n",
       " 'Leonberg': {'vrai positif': 259,\n",
       "  'faux positif': 12,\n",
       "  'precision': 0.955719557195572},\n",
       " 'Newfoundland': {'vrai positif': 234,\n",
       "  'faux positif': 33,\n",
       "  'precision': 0.8764044943820225},\n",
       " 'Great_Pyrenees': {'vrai positif': 242,\n",
       "  'faux positif': 47,\n",
       "  'precision': 0.8373702422145328},\n",
       " 'Samoyed': {'vrai positif': 269,\n",
       "  'faux positif': 14,\n",
       "  'precision': 0.950530035335689},\n",
       " 'Pomeranian': {'vrai positif': 253,\n",
       "  'faux positif': 4,\n",
       "  'precision': 0.9844357976653697},\n",
       " 'chow': {'vrai positif': 224, 'faux positif': 0, 'precision': 1.0},\n",
       " 'keeshond': {'vrai positif': 200, 'faux positif': 0, 'precision': 1.0},\n",
       " 'Brabancon_griffon': {'vrai positif': 179,\n",
       "  'faux positif': 16,\n",
       "  'precision': 0.9179487179487179},\n",
       " 'Pembroke': {'vrai positif': 185,\n",
       "  'faux positif': 18,\n",
       "  'precision': 0.9113300492610837},\n",
       " 'Cardigan': {'vrai positif': 164,\n",
       "  'faux positif': 67,\n",
       "  'precision': 0.70995670995671},\n",
       " 'toy_poodle': {'vrai positif': 132,\n",
       "  'faux positif': 40,\n",
       "  'precision': 0.7674418604651163},\n",
       " 'miniature_poodle': {'vrai positif': 145,\n",
       "  'faux positif': 89,\n",
       "  'precision': 0.6196581196581197},\n",
       " 'standard_poodle': {'vrai positif': 132,\n",
       "  'faux positif': 26,\n",
       "  'precision': 0.8354430379746836},\n",
       " 'Mexican_hairless': {'vrai positif': 188,\n",
       "  'faux positif': 7,\n",
       "  'precision': 0.9641025641025641},\n",
       " 'dingo': {'vrai positif': 173,\n",
       "  'faux positif': 20,\n",
       "  'precision': 0.8963730569948186},\n",
       " 'dhole': {'vrai positif': 162,\n",
       "  'faux positif': 5,\n",
       "  'precision': 0.9700598802395209},\n",
       " 'African_hunting_dog': {'vrai positif': 207,\n",
       "  'faux positif': 0,\n",
       "  'precision': 1.0}}"
      ]
     },
     "execution_count": 17,
     "metadata": {},
     "output_type": "execute_result"
    }
   ],
   "source": [
    "metrics.get_data()"
   ]
  },
  {
   "cell_type": "code",
   "execution_count": 18,
   "id": "782ccd34-6e01-452f-91eb-faab22af95d9",
   "metadata": {
    "tags": []
   },
   "outputs": [
    {
     "name": "stdout",
     "output_type": "stream",
     "text": [
      "34/34 [==============================] - 3s 87ms/step - loss: 0.4212 - categorical_accuracy: 0.8756\n"
     ]
    }
   ],
   "source": [
    "loss0, accuracy0 = model.evaluate(test_dataset)"
   ]
  },
  {
   "cell_type": "code",
   "execution_count": 19,
   "id": "344a9bcc-43ca-40a8-92fd-f4a5bd4667a3",
   "metadata": {
    "tags": []
   },
   "outputs": [
    {
     "data": {
      "image/png": "[encoded data removed]",
      "text/plain": [
       "<Figure size 640x480 with 1 Axes>"
      ]
     },
     "metadata": {},
     "output_type": "display_data"
    }
   ],
   "source": [
    "def plot_hist(hist):\n",
    "    plt.plot(hist.history['categorical_accuracy'])\n",
    "    plt.plot(hist.history['val_categorical_accuracy'])\n",
    "    plt.title('Categorical accuracy')\n",
    "    plt.ylabel('accuracy')\n",
    "    plt.xlabel('epoch')\n",
    "    plt.legend(['train', 'validation'], loc='upper left')\n",
    "    plt.show()\n",
    "\n",
    "plot_hist(history)"
   ]
  }
 ],
 "metadata": {
  "kernelspec": {
   "display_name": "Python 3 (ipykernel)",
   "language": "python",
   "name": "python3"
  },
  "language_info": {
   "codemirror_mode": {
    "name": "ipython",
    "version": 3
   },
   "file_extension": ".py",
   "mimetype": "text/x-python",
   "name": "python",
   "nbconvert_exporter": "python",
   "pygments_lexer": "ipython3",
   "version": "3.8.10"
  }
 },
 "nbformat": 4,
 "nbformat_minor": 5
}
