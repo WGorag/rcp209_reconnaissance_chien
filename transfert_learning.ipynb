{
 "cells": [
  {
   "cell_type": "code",
   "execution_count": 1,
   "id": "d26033b6-a92e-4403-a0d9-abee0ff003ae",
   "metadata": {},
   "outputs": [],
   "source": [
    "import pathlib\n",
    "import os\n",
    "os.environ['TF_CPP_MIN_LOG_LEVEL'] = '1' \n",
    "import matplotlib.pyplot as plt\n",
    "import matplotlib.image as mpimg\n",
    "import tensorflow as tf\n",
    "import tarfile\n",
    "from os import path\n",
    "from tensorflow.keras import layers\n",
    "from tensorflow import keras\n",
    "import python_splitter\n",
    "import shutil\n",
    "import numpy as np\n",
    "import pandas as pd\n",
    "import matplotlib.pyplot as plt\n",
    "\n",
    "import tensorflow as tf\n",
    "from tensorflow import keras\n",
    "from tensorflow.keras import layers\n",
    "from keras import callbacks\n",
    "from sklearn.metrics import confusion_matrix"
   ]
  },
  {
   "cell_type": "code",
   "execution_count": 2,
   "id": "5fa69c55-6ba9-472c-858c-a98e90c305dc",
   "metadata": {
    "tags": []
   },
   "outputs": [],
   "source": [
    "items = os.listdir('dataset/Images')\n",
    "items.sort()\n",
    "dog_categories = [];\n",
    "for item in items:\n",
    "    dog_categories.append(item.split('-')[1])"
   ]
  },
  {
   "cell_type": "code",
   "execution_count": 3,
   "id": "5236bc94-df96-4923-8663-80f2da318e38",
   "metadata": {
    "tags": []
   },
   "outputs": [],
   "source": [
    "class Metrics(keras.callbacks.Callback):\n",
    "    def __init__(self, val_data, dog_categories):\n",
    "        super().__init__()\n",
    "        self.validation_data = val_data\n",
    "    def on_train_begin(self, logs={}):\n",
    "        self._data = {}\n",
    "        for dog_category in dog_categories:\n",
    "                self._data[dog_category] = {\n",
    "                        'vrai positif': 0,\n",
    "                        'faux positif': 0,\n",
    "                        'precision':0\n",
    "                    }\n",
    "\n",
    "    def on_epoch_end(self, batch, logs={}):\n",
    "        for x_test, y_test in self.validation_data:\n",
    "            y_predict = np.asarray(model.predict(x_test, verbose=0))\n",
    "\n",
    "            true = np.argmax(y_test, axis=1)\n",
    "            pred = np.argmax(y_predict, axis=1)\n",
    "            predictions = zip(true, pred);\n",
    "            for test, prediction in predictions:\n",
    "                if test == prediction:\n",
    "                    self._data[dog_categories[test]]['vrai positif'] = self._data[dog_categories[test]]['vrai positif'] + 1\n",
    "                if test != prediction:\n",
    "                    self._data[dog_categories[prediction]]['faux positif'] = self._data[dog_categories[prediction]]['faux positif'] + 1\n",
    "        return\n",
    "\n",
    "    def get_data(self):\n",
    "        for data in self._data:\n",
    "            self._data[data]['precision'] = self._data[data]['vrai positif'] / (self._data[data]['vrai positif'] + self._data[data]['faux positif'])\n",
    "        return self._data"
   ]
  },
  {
   "cell_type": "code",
   "execution_count": 4,
   "id": "51b948f3-c473-4f63-8559-6b381d7bb8c7",
   "metadata": {},
   "outputs": [
    {
     "data": {
      "text/plain": [
       "[PhysicalDevice(name='/physical_device:GPU:0', device_type='GPU')]"
      ]
     },
     "execution_count": 4,
     "metadata": {},
     "output_type": "execute_result"
    }
   ],
   "source": [
    " tf.config.list_physical_devices('GPU')"
   ]
  },
  {
   "cell_type": "markdown",
   "id": "87957d29-7086-4c75-b56e-b5dc46d2f66f",
   "metadata": {},
   "source": [
    "Je charge mes datasets"
   ]
  },
  {
   "cell_type": "code",
   "execution_count": 5,
   "id": "af426d46-8886-4cc0-8369-2a53d67a68d0",
   "metadata": {},
   "outputs": [
    {
     "name": "stdout",
     "output_type": "stream",
     "text": [
      "Found 14355 files belonging to 120 classes.\n",
      "Found 1077 files belonging to 120 classes.\n",
      "Found 5148 files belonging to 120 classes.\n"
     ]
    }
   ],
   "source": [
    "BATCH_SIZE = 32\n",
    "IMG_SIZE = 224\n",
    "\n",
    "train_dataset = tf.keras.preprocessing.image_dataset_from_directory(\n",
    "    pathlib.Path('Train_Test_Folder/train'),\n",
    "    image_size=(IMG_SIZE,IMG_SIZE),\n",
    "    batch_size=BATCH_SIZE,\n",
    "    shuffle=True\n",
    ")\n",
    "\n",
    "test_dataset = tf.keras.preprocessing.image_dataset_from_directory(\n",
    "    pathlib.Path('Train_Test_Folder/test'),\n",
    "    image_size=(IMG_SIZE,IMG_SIZE),\n",
    "    batch_size=BATCH_SIZE,\n",
    "    shuffle=True\n",
    ")\n",
    "\n",
    "validation_dataset = tf.keras.preprocessing.image_dataset_from_directory(\n",
    "    pathlib.Path('Train_Test_Folder/val'),\n",
    "    image_size=(IMG_SIZE,IMG_SIZE),\n",
    "    batch_size=BATCH_SIZE,\n",
    "    shuffle=True\n",
    ")"
   ]
  },
  {
   "cell_type": "code",
   "execution_count": 6,
   "id": "a980223a-d1ec-4378-98e4-55ffaedca61b",
   "metadata": {},
   "outputs": [],
   "source": [
    "AUTOTUNE = tf.data.AUTOTUNE\n",
    "\n",
    "train_dataset = train_dataset.prefetch(buffer_size=AUTOTUNE)\n",
    "validation_dataset = validation_dataset.prefetch(buffer_size=AUTOTUNE)\n",
    "test_dataset = test_dataset.prefetch(buffer_size=AUTOTUNE)"
   ]
  },
  {
   "cell_type": "markdown",
   "id": "5a03332a-0541-4109-ae7b-ac2619ff5195",
   "metadata": {},
   "source": [
    "Je transforme mes classe en one hot"
   ]
  },
  {
   "cell_type": "code",
   "execution_count": 7,
   "id": "0b76e9a8-cbd3-4857-9afc-3e2941d3cdac",
   "metadata": {
    "tags": []
   },
   "outputs": [
    {
     "name": "stdout",
     "output_type": "stream",
     "text": [
      "WARNING:tensorflow:From /usr/local/lib/python3.8/dist-packages/tensorflow/python/autograph/pyct/static_analysis/liveness.py:83: Analyzer.lamba_check (from tensorflow.python.autograph.pyct.static_analysis.liveness) is deprecated and will be removed after 2023-09-23.\n",
      "Instructions for updating:\n",
      "Lambda fuctions will be no more assumed to be used in the statement where they are used, or at least in the same block. https://github.com/tensorflow/tensorflow/issues/56089\n"
     ]
    }
   ],
   "source": [
    "train_dataset = train_dataset.map(lambda x, y: (x, tf.one_hot(y, depth=120)))\n",
    "validation_dataset = validation_dataset.map(lambda x, y: (x, tf.one_hot(y, depth=120)))\n",
    "test_dataset = test_dataset.map(lambda x, y: (x, tf.one_hot(y, depth=120)))"
   ]
  },
  {
   "cell_type": "code",
   "execution_count": 8,
   "id": "909556b7-4eed-48e6-b90a-bc2e6d6cab3f",
   "metadata": {},
   "outputs": [],
   "source": [
    "data_augmentation = tf.keras.Sequential([\n",
    "  tf.keras.layers.RandomFlip('horizontal'),\n",
    "  tf.keras.layers.RandomRotation(0.2),\n",
    "])"
   ]
  },
  {
   "cell_type": "markdown",
   "id": "2388a197-af29-4daf-b918-a03ffebeaec7",
   "metadata": {},
   "source": [
    "Utilisation de mobilenet v2"
   ]
  },
  {
   "cell_type": "code",
   "execution_count": 9,
   "id": "693f2279-3828-4415-93de-128bdf4507ac",
   "metadata": {},
   "outputs": [],
   "source": [
    "base_model = keras.applications.ResNet50V2(\n",
    "                        include_top=False, # Exclude ImageNet classifier at the top\n",
    "                        weights='imagenet',\n",
    "                        input_shape=(IMG_SIZE, IMG_SIZE, 3)\n",
    "                        )"
   ]
  },
  {
   "cell_type": "code",
   "execution_count": 22,
   "id": "8658e8f9-1d67-4cc5-9af3-f3845949f240",
   "metadata": {
    "tags": []
   },
   "outputs": [],
   "source": [
    "base_model.trainable = False\n",
    "# base_model.summary()"
   ]
  },
  {
   "cell_type": "markdown",
   "id": "a04d77f0-df48-4084-b32a-de5200eecbd3",
   "metadata": {},
   "source": [
    "Pour générer des prédictions à partir du bloc d'entités, effectuez une moyenne sur les emplacements spatiaux 5x5 , à l'aide d'une couche tf.keras.layers.GlobalAveragePooling2D pour convertir les entités en un seul vecteur de 1 280 éléments par image."
   ]
  },
  {
   "cell_type": "markdown",
   "id": "a29f6a95-7147-4c29-807d-6914956703d8",
   "metadata": {},
   "source": [
    "On construit le modèle"
   ]
  },
  {
   "cell_type": "code",
   "execution_count": 11,
   "id": "de103d48-29f2-45c7-87ed-4dc8f1237d56",
   "metadata": {
    "tags": []
   },
   "outputs": [
    {
     "name": "stdout",
     "output_type": "stream",
     "text": [
      "WARNING:tensorflow:Using a while_loop for converting RngReadAndSkip cause there is no registered converter for this op.\n",
      "WARNING:tensorflow:Using a while_loop for converting Bitcast cause there is no registered converter for this op.\n",
      "WARNING:tensorflow:Using a while_loop for converting Bitcast cause there is no registered converter for this op.\n",
      "WARNING:tensorflow:Using a while_loop for converting StatelessRandomUniformV2 cause there is no registered converter for this op.\n",
      "WARNING:tensorflow:Using a while_loop for converting ImageProjectiveTransformV3 cause there is no registered converter for this op.\n",
      "WARNING:tensorflow:Using a while_loop for converting RngReadAndSkip cause there is no registered converter for this op.\n",
      "WARNING:tensorflow:Using a while_loop for converting Bitcast cause there is no registered converter for this op.\n",
      "WARNING:tensorflow:Using a while_loop for converting Bitcast cause there is no registered converter for this op.\n",
      "WARNING:tensorflow:Using a while_loop for converting StatelessRandomUniformV2 cause there is no registered converter for this op.\n",
      "WARNING:tensorflow:Using a while_loop for converting ImageProjectiveTransformV3 cause there is no registered converter for this op.\n"
     ]
    }
   ],
   "source": [
    "inputs = keras.Input(shape=(IMG_SIZE, IMG_SIZE, 3))\n",
    "x = data_augmentation(inputs)\n",
    "x = keras.applications.resnet_v2.preprocess_input(x)\n",
    "x = base_model(x, training=False)\n",
    "x = layers.GlobalAveragePooling2D()(x) # Average pooling operation\n",
    "x = layers.BatchNormalization()(x) # Introduce batch norm\n",
    "x = layers.Dropout(0.2)(x)  # Regularize with dropout\n",
    "outputs = layers.Dense(120, activation='softmax')(x)\n",
    "model = tf.keras.Model(inputs, outputs)"
   ]
  },
  {
   "cell_type": "code",
   "execution_count": 12,
   "id": "d58d8911-978a-482e-b0e0-e354148d19d8",
   "metadata": {
    "tags": []
   },
   "outputs": [],
   "source": [
    "model = keras.Model(inputs, outputs)"
   ]
  },
  {
   "cell_type": "code",
   "execution_count": 13,
   "id": "890d6faa-6fc5-44d8-8422-0f68308a3e18",
   "metadata": {
    "tags": []
   },
   "outputs": [],
   "source": [
    "model.compile(optimizer=keras.optimizers.Adam(),\n",
    "              loss=keras.losses.CategoricalCrossentropy(),\n",
    "              metrics=[keras.metrics.CategoricalAccuracy()]\n",
    "              )"
   ]
  },
  {
   "cell_type": "code",
   "execution_count": 14,
   "id": "328189d4-8f17-4a36-bd01-d29fd04167c6",
   "metadata": {
    "tags": []
   },
   "outputs": [],
   "source": [
    "earlystopping = callbacks.EarlyStopping(monitor='val_loss', \n",
    "                                        mode='min', \n",
    "                                        patience=5, \n",
    "                                        restore_best_weights=True)"
   ]
  },
  {
   "cell_type": "code",
   "execution_count": 15,
   "id": "8b55735a-ef10-48e9-a59f-81ee71e176e8",
   "metadata": {},
   "outputs": [],
   "source": [
    "metrics = Metrics(val_data = validation_dataset, dog_categories = dog_categories)"
   ]
  },
  {
   "cell_type": "code",
   "execution_count": 16,
   "id": "784ce951-5b9e-4d0c-aee2-c5bbc06eab19",
   "metadata": {
    "tags": []
   },
   "outputs": [
    {
     "name": "stdout",
     "output_type": "stream",
     "text": [
      "Epoch 1/25\n",
      "WARNING:tensorflow:Using a while_loop for converting RngReadAndSkip cause there is no registered converter for this op.\n",
      "WARNING:tensorflow:Using a while_loop for converting Bitcast cause there is no registered converter for this op.\n",
      "WARNING:tensorflow:Using a while_loop for converting Bitcast cause there is no registered converter for this op.\n",
      "WARNING:tensorflow:Using a while_loop for converting StatelessRandomUniformV2 cause there is no registered converter for this op.\n",
      "WARNING:tensorflow:Using a while_loop for converting ImageProjectiveTransformV3 cause there is no registered converter for this op.\n",
      "WARNING:tensorflow:Using a while_loop for converting RngReadAndSkip cause there is no registered converter for this op.\n",
      "WARNING:tensorflow:Using a while_loop for converting Bitcast cause there is no registered converter for this op.\n",
      "WARNING:tensorflow:Using a while_loop for converting Bitcast cause there is no registered converter for this op.\n",
      "WARNING:tensorflow:Using a while_loop for converting StatelessRandomUniformV2 cause there is no registered converter for this op.\n",
      "WARNING:tensorflow:Using a while_loop for converting ImageProjectiveTransformV3 cause there is no registered converter for this op.\n",
      "449/449 [==============================] - 199s 429ms/step - loss: 2.2799 - categorical_accuracy: 0.4421 - val_loss: 1.0184 - val_categorical_accuracy: 0.7061\n",
      "Epoch 2/25\n",
      "449/449 [==============================] - 184s 410ms/step - loss: 1.4663 - categorical_accuracy: 0.6021 - val_loss: 1.0210 - val_categorical_accuracy: 0.7222\n",
      "Epoch 3/25\n",
      "449/449 [==============================] - 184s 411ms/step - loss: 1.2790 - categorical_accuracy: 0.6485 - val_loss: 0.9906 - val_categorical_accuracy: 0.7286\n",
      "Epoch 4/25\n",
      "449/449 [==============================] - 185s 412ms/step - loss: 1.1593 - categorical_accuracy: 0.6772 - val_loss: 1.0331 - val_categorical_accuracy: 0.7238\n",
      "Epoch 5/25\n",
      "449/449 [==============================] - 182s 404ms/step - loss: 1.0839 - categorical_accuracy: 0.6944 - val_loss: 1.0188 - val_categorical_accuracy: 0.7319\n",
      "Epoch 6/25\n",
      "449/449 [==============================] - 182s 406ms/step - loss: 1.0276 - categorical_accuracy: 0.7055 - val_loss: 1.0479 - val_categorical_accuracy: 0.7257\n",
      "Epoch 7/25\n",
      "449/449 [==============================] - 184s 409ms/step - loss: 0.9777 - categorical_accuracy: 0.7228 - val_loss: 1.0501 - val_categorical_accuracy: 0.7304\n",
      "Epoch 8/25\n",
      "449/449 [==============================] - 166s 369ms/step - loss: 0.9553 - categorical_accuracy: 0.7239 - val_loss: 1.0653 - val_categorical_accuracy: 0.7244\n"
     ]
    }
   ],
   "source": [
    "EPOCHS = 25\n",
    "\n",
    "history = model.fit(train_dataset, \n",
    "                    epochs=EPOCHS, \n",
    "                    validation_data=validation_dataset, \n",
    "                    verbose=1,\n",
    "                    callbacks =[earlystopping, metrics])"
   ]
  },
  {
   "cell_type": "code",
   "execution_count": 17,
   "id": "5bc99553-34ef-4224-9cfe-e2a38b6d1d5d",
   "metadata": {},
   "outputs": [
    {
     "data": {
      "text/plain": [
       "{'Chihuahua': {'vrai positif': 189,\n",
       "  'faux positif': 112,\n",
       "  'precision': 0.627906976744186},\n",
       " 'Japanese_spaniel': {'vrai positif': 313,\n",
       "  'faux positif': 25,\n",
       "  'precision': 0.9260355029585798},\n",
       " 'Maltese_dog': {'vrai positif': 404,\n",
       "  'faux positif': 121,\n",
       "  'precision': 0.7695238095238095},\n",
       " 'Pekinese': {'vrai positif': 215, 'faux positif': 105, 'precision': 0.671875},\n",
       " 'Shih': {'vrai positif': 229,\n",
       "  'faux positif': 155,\n",
       "  'precision': 0.5963541666666666},\n",
       " 'Blenheim_spaniel': {'vrai positif': 311,\n",
       "  'faux positif': 104,\n",
       "  'precision': 0.7493975903614458},\n",
       " 'papillon': {'vrai positif': 348,\n",
       "  'faux positif': 25,\n",
       "  'precision': 0.9329758713136729},\n",
       " 'toy_terrier': {'vrai positif': 220,\n",
       "  'faux positif': 70,\n",
       "  'precision': 0.7586206896551724},\n",
       " 'Rhodesian_ridgeback': {'vrai positif': 190,\n",
       "  'faux positif': 163,\n",
       "  'precision': 0.5382436260623229},\n",
       " 'Afghan_hound': {'vrai positif': 418,\n",
       "  'faux positif': 84,\n",
       "  'precision': 0.8326693227091634},\n",
       " 'basset': {'vrai positif': 282,\n",
       "  'faux positif': 119,\n",
       "  'precision': 0.7032418952618454},\n",
       " 'beagle': {'vrai positif': 257,\n",
       "  'faux positif': 117,\n",
       "  'precision': 0.6871657754010695},\n",
       " 'bloodhound': {'vrai positif': 325,\n",
       "  'faux positif': 99,\n",
       "  'precision': 0.7665094339622641},\n",
       " 'bluetick': {'vrai positif': 235,\n",
       "  'faux positif': 95,\n",
       "  'precision': 0.7121212121212122},\n",
       " 'black': {'vrai positif': 246,\n",
       "  'faux positif': 69,\n",
       "  'precision': 0.780952380952381},\n",
       " 'Walker_hound': {'vrai positif': 169,\n",
       "  'faux positif': 153,\n",
       "  'precision': 0.5248447204968945},\n",
       " 'English_foxhound': {'vrai positif': 193,\n",
       "  'faux positif': 95,\n",
       "  'precision': 0.6701388888888888},\n",
       " 'redbone': {'vrai positif': 125,\n",
       "  'faux positif': 54,\n",
       "  'precision': 0.6983240223463687},\n",
       " 'borzoi': {'vrai positif': 235,\n",
       "  'faux positif': 60,\n",
       "  'precision': 0.7966101694915254},\n",
       " 'Irish_wolfhound': {'vrai positif': 313,\n",
       "  'faux positif': 144,\n",
       "  'precision': 0.6849015317286652},\n",
       " 'Italian_greyhound': {'vrai positif': 260,\n",
       "  'faux positif': 174,\n",
       "  'precision': 0.5990783410138248},\n",
       " 'whippet': {'vrai positif': 169,\n",
       "  'faux positif': 147,\n",
       "  'precision': 0.5348101265822784},\n",
       " 'Ibizan_hound': {'vrai positif': 293,\n",
       "  'faux positif': 40,\n",
       "  'precision': 0.8798798798798799},\n",
       " 'Norwegian_elkhound': {'vrai positif': 340,\n",
       "  'faux positif': 66,\n",
       "  'precision': 0.8374384236453202},\n",
       " 'otterhound': {'vrai positif': 220,\n",
       "  'faux positif': 60,\n",
       "  'precision': 0.7857142857142857},\n",
       " 'Saluki': {'vrai positif': 325,\n",
       "  'faux positif': 124,\n",
       "  'precision': 0.7238307349665924},\n",
       " 'Scottish_deerhound': {'vrai positif': 367,\n",
       "  'faux positif': 107,\n",
       "  'precision': 0.7742616033755274},\n",
       " 'Weimaraner': {'vrai positif': 276,\n",
       "  'faux positif': 83,\n",
       "  'precision': 0.7688022284122563},\n",
       " 'Staffordshire_bullterrier': {'vrai positif': 142,\n",
       "  'faux positif': 95,\n",
       "  'precision': 0.5991561181434599},\n",
       " 'American_Staffordshire_terrier': {'vrai positif': 199,\n",
       "  'faux positif': 141,\n",
       "  'precision': 0.5852941176470589},\n",
       " 'Bedlington_terrier': {'vrai positif': 331,\n",
       "  'faux positif': 20,\n",
       "  'precision': 0.9430199430199431},\n",
       " 'Border_terrier': {'vrai positif': 286,\n",
       "  'faux positif': 45,\n",
       "  'precision': 0.8640483383685801},\n",
       " 'Kerry_blue_terrier': {'vrai positif': 230,\n",
       "  'faux positif': 12,\n",
       "  'precision': 0.9504132231404959},\n",
       " 'Irish_terrier': {'vrai positif': 183,\n",
       "  'faux positif': 30,\n",
       "  'precision': 0.8591549295774648},\n",
       " 'Norfolk_terrier': {'vrai positif': 211,\n",
       "  'faux positif': 98,\n",
       "  'precision': 0.6828478964401294},\n",
       " 'Norwich_terrier': {'vrai positif': 230,\n",
       "  'faux positif': 168,\n",
       "  'precision': 0.5778894472361809},\n",
       " 'Yorkshire_terrier': {'vrai positif': 170,\n",
       "  'faux positif': 100,\n",
       "  'precision': 0.6296296296296297},\n",
       " 'wire': {'vrai positif': 249,\n",
       "  'faux positif': 121,\n",
       "  'precision': 0.672972972972973},\n",
       " 'Lakeland_terrier': {'vrai positif': 243,\n",
       "  'faux positif': 200,\n",
       "  'precision': 0.5485327313769752},\n",
       " 'Sealyham_terrier': {'vrai positif': 365,\n",
       "  'faux positif': 69,\n",
       "  'precision': 0.8410138248847926},\n",
       " 'Airedale': {'vrai positif': 284,\n",
       "  'faux positif': 86,\n",
       "  'precision': 0.7675675675675676},\n",
       " 'cairn': {'vrai positif': 264,\n",
       "  'faux positif': 47,\n",
       "  'precision': 0.8488745980707395},\n",
       " 'Australian_terrier': {'vrai positif': 175,\n",
       "  'faux positif': 137,\n",
       "  'precision': 0.5608974358974359},\n",
       " 'Dandie_Dinmont': {'vrai positif': 338,\n",
       "  'faux positif': 108,\n",
       "  'precision': 0.757847533632287},\n",
       " 'Boston_bull': {'vrai positif': 315,\n",
       "  'faux positif': 122,\n",
       "  'precision': 0.7208237986270023},\n",
       " 'miniature_schnauzer': {'vrai positif': 264,\n",
       "  'faux positif': 95,\n",
       "  'precision': 0.7353760445682451},\n",
       " 'giant_schnauzer': {'vrai positif': 185,\n",
       "  'faux positif': 113,\n",
       "  'precision': 0.6208053691275168},\n",
       " 'standard_schnauzer': {'vrai positif': 170,\n",
       "  'faux positif': 55,\n",
       "  'precision': 0.7555555555555555},\n",
       " 'Scotch_terrier': {'vrai positif': 259,\n",
       "  'faux positif': 82,\n",
       "  'precision': 0.7595307917888563},\n",
       " 'Tibetan_terrier': {'vrai positif': 284,\n",
       "  'faux positif': 149,\n",
       "  'precision': 0.6558891454965358},\n",
       " 'silky_terrier': {'vrai positif': 268,\n",
       "  'faux positif': 294,\n",
       "  'precision': 0.47686832740213525},\n",
       " 'soft': {'vrai positif': 219,\n",
       "  'faux positif': 61,\n",
       "  'precision': 0.7821428571428571},\n",
       " 'West_Highland_white_terrier': {'vrai positif': 289,\n",
       "  'faux positif': 105,\n",
       "  'precision': 0.733502538071066},\n",
       " 'Lhasa': {'vrai positif': 191,\n",
       "  'faux positif': 117,\n",
       "  'precision': 0.6201298701298701},\n",
       " 'flat': {'vrai positif': 238,\n",
       "  'faux positif': 57,\n",
       "  'precision': 0.8067796610169492},\n",
       " 'curly': {'vrai positif': 262,\n",
       "  'faux positif': 47,\n",
       "  'precision': 0.8478964401294499},\n",
       " 'golden_retriever': {'vrai positif': 237,\n",
       "  'faux positif': 105,\n",
       "  'precision': 0.6929824561403509},\n",
       " 'Labrador_retriever': {'vrai positif': 257,\n",
       "  'faux positif': 50,\n",
       "  'precision': 0.8371335504885994},\n",
       " 'Chesapeake_Bay_retriever': {'vrai positif': 275,\n",
       "  'faux positif': 161,\n",
       "  'precision': 0.6307339449541285},\n",
       " 'German_short': {'vrai positif': 236,\n",
       "  'faux positif': 44,\n",
       "  'precision': 0.8428571428571429},\n",
       " 'vizsla': {'vrai positif': 240,\n",
       "  'faux positif': 146,\n",
       "  'precision': 0.6217616580310881},\n",
       " 'English_setter': {'vrai positif': 242,\n",
       "  'faux positif': 91,\n",
       "  'precision': 0.7267267267267268},\n",
       " 'Irish_setter': {'vrai positif': 212,\n",
       "  'faux positif': 28,\n",
       "  'precision': 0.8833333333333333},\n",
       " 'Gordon_setter': {'vrai positif': 231,\n",
       "  'faux positif': 86,\n",
       "  'precision': 0.7287066246056783},\n",
       " 'Brittany_spaniel': {'vrai positif': 207,\n",
       "  'faux positif': 58,\n",
       "  'precision': 0.7811320754716982},\n",
       " 'clumber': {'vrai positif': 246,\n",
       "  'faux positif': 81,\n",
       "  'precision': 0.7522935779816514},\n",
       " 'English_springer': {'vrai positif': 250,\n",
       "  'faux positif': 94,\n",
       "  'precision': 0.7267441860465116},\n",
       " 'Welsh_springer_spaniel': {'vrai positif': 200,\n",
       "  'faux positif': 103,\n",
       "  'precision': 0.6600660066006601},\n",
       " 'cocker_spaniel': {'vrai positif': 233,\n",
       "  'faux positif': 124,\n",
       "  'precision': 0.6526610644257703},\n",
       " 'Sussex_spaniel': {'vrai positif': 242,\n",
       "  'faux positif': 57,\n",
       "  'precision': 0.8093645484949833},\n",
       " 'Irish_water_spaniel': {'vrai positif': 278,\n",
       "  'faux positif': 43,\n",
       "  'precision': 0.8660436137071651},\n",
       " 'kuvasz': {'vrai positif': 190,\n",
       "  'faux positif': 71,\n",
       "  'precision': 0.7279693486590039},\n",
       " 'schipperke': {'vrai positif': 249,\n",
       "  'faux positif': 29,\n",
       "  'precision': 0.89568345323741},\n",
       " 'groenendael': {'vrai positif': 267,\n",
       "  'faux positif': 57,\n",
       "  'precision': 0.8240740740740741},\n",
       " 'malinois': {'vrai positif': 187,\n",
       "  'faux positif': 52,\n",
       "  'precision': 0.7824267782426778},\n",
       " 'briard': {'vrai positif': 204,\n",
       "  'faux positif': 103,\n",
       "  'precision': 0.6644951140065146},\n",
       " 'kelpie': {'vrai positif': 236,\n",
       "  'faux positif': 214,\n",
       "  'precision': 0.5244444444444445},\n",
       " 'komondor': {'vrai positif': 262,\n",
       "  'faux positif': 17,\n",
       "  'precision': 0.9390681003584229},\n",
       " 'Old_English_sheepdog': {'vrai positif': 288,\n",
       "  'faux positif': 54,\n",
       "  'precision': 0.8421052631578947},\n",
       " 'Shetland_sheepdog': {'vrai positif': 205,\n",
       "  'faux positif': 113,\n",
       "  'precision': 0.6446540880503144},\n",
       " 'collie': {'vrai positif': 107,\n",
       "  'faux positif': 91,\n",
       "  'precision': 0.5404040404040404},\n",
       " 'Border_collie': {'vrai positif': 239,\n",
       "  'faux positif': 123,\n",
       "  'precision': 0.6602209944751382},\n",
       " 'Bouvier_des_Flandres': {'vrai positif': 229,\n",
       "  'faux positif': 212,\n",
       "  'precision': 0.5192743764172335},\n",
       " 'Rottweiler': {'vrai positif': 231,\n",
       "  'faux positif': 90,\n",
       "  'precision': 0.719626168224299},\n",
       " 'German_shepherd': {'vrai positif': 235,\n",
       "  'faux positif': 87,\n",
       "  'precision': 0.7298136645962733},\n",
       " 'Doberman': {'vrai positif': 208,\n",
       "  'faux positif': 78,\n",
       "  'precision': 0.7272727272727273},\n",
       " 'miniature_pinscher': {'vrai positif': 253,\n",
       "  'faux positif': 117,\n",
       "  'precision': 0.6837837837837838},\n",
       " 'Greater_Swiss_Mountain_dog': {'vrai positif': 232,\n",
       "  'faux positif': 104,\n",
       "  'precision': 0.6904761904761905},\n",
       " 'Bernese_mountain_dog': {'vrai positif': 412,\n",
       "  'faux positif': 120,\n",
       "  'precision': 0.7744360902255639},\n",
       " 'Appenzeller': {'vrai positif': 57,\n",
       "  'faux positif': 41,\n",
       "  'precision': 0.5816326530612245},\n",
       " 'EntleBucher': {'vrai positif': 339,\n",
       "  'faux positif': 180,\n",
       "  'precision': 0.653179190751445},\n",
       " 'boxer': {'vrai positif': 175,\n",
       "  'faux positif': 58,\n",
       "  'precision': 0.7510729613733905},\n",
       " 'bull_mastiff': {'vrai positif': 252,\n",
       "  'faux positif': 88,\n",
       "  'precision': 0.7411764705882353},\n",
       " 'Tibetan_mastiff': {'vrai positif': 217,\n",
       "  'faux positif': 84,\n",
       "  'precision': 0.7209302325581395},\n",
       " 'French_bulldog': {'vrai positif': 238,\n",
       "  'faux positif': 87,\n",
       "  'precision': 0.7323076923076923},\n",
       " 'Great_Dane': {'vrai positif': 198,\n",
       "  'faux positif': 75,\n",
       "  'precision': 0.7252747252747253},\n",
       " 'Saint_Bernard': {'vrai positif': 291,\n",
       "  'faux positif': 39,\n",
       "  'precision': 0.8818181818181818},\n",
       " 'Eskimo_dog': {'vrai positif': 218,\n",
       "  'faux positif': 319,\n",
       "  'precision': 0.4059590316573557},\n",
       " 'malamute': {'vrai positif': 123,\n",
       "  'faux positif': 94,\n",
       "  'precision': 0.5668202764976958},\n",
       " 'Siberian_husky': {'vrai positif': 106,\n",
       "  'faux positif': 144,\n",
       "  'precision': 0.424},\n",
       " 'affenpinscher': {'vrai positif': 251,\n",
       "  'faux positif': 53,\n",
       "  'precision': 0.8256578947368421},\n",
       " 'basenji': {'vrai positif': 327,\n",
       "  'faux positif': 146,\n",
       "  'precision': 0.6913319238900634},\n",
       " 'pug': {'vrai positif': 258,\n",
       "  'faux positif': 33,\n",
       "  'precision': 0.8865979381443299},\n",
       " 'Leonberg': {'vrai positif': 379,\n",
       "  'faux positif': 92,\n",
       "  'precision': 0.8046709129511678},\n",
       " 'Newfoundland': {'vrai positif': 304,\n",
       "  'faux positif': 133,\n",
       "  'precision': 0.6956521739130435},\n",
       " 'Great_Pyrenees': {'vrai positif': 319,\n",
       "  'faux positif': 201,\n",
       "  'precision': 0.6134615384615385},\n",
       " 'Samoyed': {'vrai positif': 364,\n",
       "  'faux positif': 69,\n",
       "  'precision': 0.8406466512702079},\n",
       " 'Pomeranian': {'vrai positif': 349,\n",
       "  'faux positif': 17,\n",
       "  'precision': 0.953551912568306},\n",
       " 'chow': {'vrai positif': 323,\n",
       "  'faux positif': 35,\n",
       "  'precision': 0.9022346368715084},\n",
       " 'keeshond': {'vrai positif': 313,\n",
       "  'faux positif': 45,\n",
       "  'precision': 0.8743016759776536},\n",
       " 'Brabancon_griffon': {'vrai positif': 231,\n",
       "  'faux positif': 26,\n",
       "  'precision': 0.8988326848249028},\n",
       " 'Pembroke': {'vrai positif': 267,\n",
       "  'faux positif': 79,\n",
       "  'precision': 0.7716763005780347},\n",
       " 'Cardigan': {'vrai positif': 206,\n",
       "  'faux positif': 98,\n",
       "  'precision': 0.6776315789473685},\n",
       " 'toy_poodle': {'vrai positif': 178,\n",
       "  'faux positif': 127,\n",
       "  'precision': 0.5836065573770491},\n",
       " 'miniature_poodle': {'vrai positif': 139,\n",
       "  'faux positif': 120,\n",
       "  'precision': 0.5366795366795367},\n",
       " 'standard_poodle': {'vrai positif': 176,\n",
       "  'faux positif': 97,\n",
       "  'precision': 0.6446886446886447},\n",
       " 'Mexican_hairless': {'vrai positif': 298,\n",
       "  'faux positif': 77,\n",
       "  'precision': 0.7946666666666666},\n",
       " 'dingo': {'vrai positif': 236,\n",
       "  'faux positif': 55,\n",
       "  'precision': 0.8109965635738832},\n",
       " 'dhole': {'vrai positif': 264,\n",
       "  'faux positif': 43,\n",
       "  'precision': 0.8599348534201955},\n",
       " 'African_hunting_dog': {'vrai positif': 319,\n",
       "  'faux positif': 36,\n",
       "  'precision': 0.8985915492957747}}"
      ]
     },
     "execution_count": 17,
     "metadata": {},
     "output_type": "execute_result"
    }
   ],
   "source": [
    "metrics.get_data()"
   ]
  },
  {
   "cell_type": "code",
   "execution_count": 18,
   "id": "782ccd34-6e01-452f-91eb-faab22af95d9",
   "metadata": {
    "tags": []
   },
   "outputs": [
    {
     "name": "stdout",
     "output_type": "stream",
     "text": [
      "34/34 [==============================] - 3s 75ms/step - loss: 0.9872 - categorical_accuracy: 0.7270\n"
     ]
    }
   ],
   "source": [
    "loss0, accuracy0 = model.evaluate(test_dataset)"
   ]
  },
  {
   "cell_type": "code",
   "execution_count": 19,
   "id": "344a9bcc-43ca-40a8-92fd-f4a5bd4667a3",
   "metadata": {
    "tags": []
   },
   "outputs": [
    {
     "data": {
      "image/png": "[encoded data removed]",
      "text/plain": [
       "<Figure size 640x480 with 1 Axes>"
      ]
     },
     "metadata": {},
     "output_type": "display_data"
    }
   ],
   "source": [
    "def plot_hist(hist):\n",
    "    plt.plot(hist.history['categorical_accuracy'])\n",
    "    plt.plot(hist.history['val_categorical_accuracy'])\n",
    "    plt.title('Categorical accuracy')\n",
    "    plt.ylabel('accuracy')\n",
    "    plt.xlabel('epoch')\n",
    "    plt.legend(['train', 'validation'], loc='upper left')\n",
    "    plt.show()\n",
    "\n",
    "plot_hist(history)"
   ]
  },
  {
   "cell_type": "code",
   "execution_count": 20,
   "id": "b0f6b062-5601-48fc-9700-64f1f95d0e1a",
   "metadata": {
    "tags": []
   },
   "outputs": [],
   "source": [
    "model.save('Modele_transfert.h5')"
   ]
  }
 ],
 "metadata": {
  "kernelspec": {
   "display_name": "Python 3 (ipykernel)",
   "language": "python",
   "name": "python3"
  },
  "language_info": {
   "codemirror_mode": {
    "name": "ipython",
    "version": 3
   },
   "file_extension": ".py",
   "mimetype": "text/x-python",
   "name": "python",
   "nbconvert_exporter": "python",
   "pygments_lexer": "ipython3",
   "version": "3.8.10"
  }
 },
 "nbformat": 4,
 "nbformat_minor": 5
}
