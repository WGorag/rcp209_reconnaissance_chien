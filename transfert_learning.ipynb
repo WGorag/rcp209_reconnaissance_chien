{
 "cells": [
  {
   "cell_type": "code",
   "execution_count": 9,
   "id": "d26033b6-a92e-4403-a0d9-abee0ff003ae",
   "metadata": {},
   "outputs": [],
   "source": [
    "import pathlib\n",
    "import os\n",
    "os.environ['TF_CPP_MIN_LOG_LEVEL'] = '1' \n",
    "import matplotlib.pyplot as plt\n",
    "import matplotlib.image as mpimg\n",
    "import tensorflow as tf\n",
    "import tarfile\n",
    "from os import path\n",
    "from tensorflow.keras import layers\n",
    "from tensorflow import keras\n",
    "import python_splitter\n",
    "import shutil\n",
    "import numpy as np\n",
    "import pandas as pd\n",
    "import matplotlib.pyplot as plt\n",
    "\n",
    "import tensorflow as tf\n",
    "from tensorflow import keras\n",
    "from tensorflow.keras import layers\n",
    "from keras import callbacks"
   ]
  },
  {
   "cell_type": "code",
   "execution_count": 10,
   "id": "5236bc94-df96-4923-8663-80f2da318e38",
   "metadata": {
    "tags": []
   },
   "outputs": [],
   "source": [
    "def one_hot_encode(image, label):\n",
    "    label = tf.one_hot(label, num_classes)\n",
    "    return image, label"
   ]
  },
  {
   "cell_type": "code",
   "execution_count": 11,
   "id": "51b948f3-c473-4f63-8559-6b381d7bb8c7",
   "metadata": {},
   "outputs": [
    {
     "data": {
      "text/plain": [
       "[PhysicalDevice(name='/physical_device:GPU:0', device_type='GPU')]"
      ]
     },
     "execution_count": 11,
     "metadata": {},
     "output_type": "execute_result"
    }
   ],
   "source": [
    " tf.config.list_physical_devices('GPU')"
   ]
  },
  {
   "cell_type": "markdown",
   "id": "87957d29-7086-4c75-b56e-b5dc46d2f66f",
   "metadata": {},
   "source": [
    "Je charge mes datasets"
   ]
  },
  {
   "cell_type": "code",
   "execution_count": 24,
   "id": "af426d46-8886-4cc0-8369-2a53d67a68d0",
   "metadata": {},
   "outputs": [
    {
     "name": "stdout",
     "output_type": "stream",
     "text": [
      "Found 14355 files belonging to 120 classes.\n",
      "Found 1077 files belonging to 120 classes.\n",
      "Found 5148 files belonging to 120 classes.\n"
     ]
    }
   ],
   "source": [
    "BATCH_SIZE = 32\n",
    "IMG_SIZE = 224\n",
    "\n",
    "train_dataset = tf.keras.preprocessing.image_dataset_from_directory(\n",
    "    pathlib.Path('Train_Test_Folder/train'),\n",
    "    image_size=(IMG_SIZE,IMG_SIZE),\n",
    "    batch_size=BATCH_SIZE,\n",
    "    shuffle=True\n",
    ")\n",
    "\n",
    "test_dataset = tf.keras.preprocessing.image_dataset_from_directory(\n",
    "    pathlib.Path('Train_Test_Folder/test'),\n",
    "    image_size=(IMG_SIZE,IMG_SIZE),\n",
    "    batch_size=BATCH_SIZE,\n",
    "    shuffle=True\n",
    ")\n",
    "\n",
    "validation_dataset = tf.keras.preprocessing.image_dataset_from_directory(\n",
    "    pathlib.Path('Train_Test_Folder/val'),\n",
    "    image_size=(IMG_SIZE,IMG_SIZE),\n",
    "    batch_size=BATCH_SIZE,\n",
    "    shuffle=True\n",
    ")"
   ]
  },
  {
   "cell_type": "code",
   "execution_count": 25,
   "id": "a980223a-d1ec-4378-98e4-55ffaedca61b",
   "metadata": {},
   "outputs": [],
   "source": [
    "AUTOTUNE = tf.data.AUTOTUNE\n",
    "\n",
    "train_dataset = train_dataset.prefetch(buffer_size=AUTOTUNE)\n",
    "validation_dataset = validation_dataset.prefetch(buffer_size=AUTOTUNE)\n",
    "test_dataset = test_dataset.prefetch(buffer_size=AUTOTUNE)"
   ]
  },
  {
   "cell_type": "markdown",
   "id": "5a03332a-0541-4109-ae7b-ac2619ff5195",
   "metadata": {},
   "source": [
    "Je transforme mes classe en one hot"
   ]
  },
  {
   "cell_type": "code",
   "execution_count": 26,
   "id": "0b76e9a8-cbd3-4857-9afc-3e2941d3cdac",
   "metadata": {
    "tags": []
   },
   "outputs": [],
   "source": [
    "train_dataset = train_dataset.map(lambda x, y: (x, tf.one_hot(y, depth=120)))\n",
    "validation_dataset = validation_dataset.map(lambda x, y: (x, tf.one_hot(y, depth=120)))\n",
    "test_dataset = test_dataset.map(lambda x, y: (x, tf.one_hot(y, depth=120)))"
   ]
  },
  {
   "cell_type": "code",
   "execution_count": 28,
   "id": "909556b7-4eed-48e6-b90a-bc2e6d6cab3f",
   "metadata": {},
   "outputs": [],
   "source": [
    "data_augmentation = tf.keras.Sequential([\n",
    "  tf.keras.layers.RandomFlip('horizontal'),\n",
    "  tf.keras.layers.RandomRotation(0.2),\n",
    "])"
   ]
  },
  {
   "cell_type": "markdown",
   "id": "2388a197-af29-4daf-b918-a03ffebeaec7",
   "metadata": {},
   "source": [
    "Utilisation de mobilenet v2"
   ]
  },
  {
   "cell_type": "code",
   "execution_count": 29,
   "id": "693f2279-3828-4415-93de-128bdf4507ac",
   "metadata": {},
   "outputs": [
    {
     "name": "stdout",
     "output_type": "stream",
     "text": [
      "Downloading data from https://storage.googleapis.com/tensorflow/keras-applications/resnet/resnet50v2_weights_tf_dim_ordering_tf_kernels_notop.h5\n",
      "94668760/94668760 [==============================] - 3s 0us/step\n"
     ]
    }
   ],
   "source": [
    "base_model = keras.applications.ResNet50V2(\n",
    "                        include_top=False, # Exclude ImageNet classifier at the top\n",
    "                        weights='imagenet',\n",
    "                        input_shape=(IMG_SIZE, IMG_SIZE, 3)\n",
    "                        )"
   ]
  },
  {
   "cell_type": "code",
   "execution_count": 30,
   "id": "201e69d7-2d94-4ac6-b583-bf2ad99f3162",
   "metadata": {
    "tags": []
   },
   "outputs": [],
   "source": [
    "# image_batch, label_batch = next(iter(train_dataset))\n",
    "# feature_batch = base_model(image_batch)\n",
    "# print(feature_batch.shape)"
   ]
  },
  {
   "cell_type": "code",
   "execution_count": 31,
   "id": "8658e8f9-1d67-4cc5-9af3-f3845949f240",
   "metadata": {
    "tags": []
   },
   "outputs": [],
   "source": [
    "base_model.trainable = False\n",
    "# base_model.summary()"
   ]
  },
  {
   "cell_type": "markdown",
   "id": "a04d77f0-df48-4084-b32a-de5200eecbd3",
   "metadata": {},
   "source": [
    "Pour générer des prédictions à partir du bloc d'entités, effectuez une moyenne sur les emplacements spatiaux 5x5 , à l'aide d'une couche tf.keras.layers.GlobalAveragePooling2D pour convertir les entités en un seul vecteur de 1 280 éléments par image."
   ]
  },
  {
   "cell_type": "code",
   "execution_count": 33,
   "id": "94307c7b-1286-45eb-988a-74beda66bcea",
   "metadata": {
    "tags": []
   },
   "outputs": [],
   "source": [
    "# global_average_layer = tf.keras.layers.GlobalAveragePooling2D()\n",
    "# feature_batch_average = global_average_layer(feature_batch)\n",
    "# print(feature_batch_average.shape)"
   ]
  },
  {
   "cell_type": "code",
   "execution_count": 34,
   "id": "09bb3cd0-1680-494e-b0a4-9a317be55145",
   "metadata": {
    "tags": []
   },
   "outputs": [],
   "source": [
    "# prediction_layer = tf.keras.layers.Dense(120, activation='softmax')\n",
    "# prediction_batch = prediction_layer(feature_batch_average)\n",
    "# print(prediction_batch.shape)"
   ]
  },
  {
   "cell_type": "code",
   "execution_count": 35,
   "id": "1263df6f-aa18-4011-ab9a-71224aba8572",
   "metadata": {
    "tags": []
   },
   "outputs": [],
   "source": [
    "# preprocess_input = tf.keras.applications.mobilenet_v2.preprocess_input"
   ]
  },
  {
   "cell_type": "markdown",
   "id": "a29f6a95-7147-4c29-807d-6914956703d8",
   "metadata": {},
   "source": [
    "On construit le modèle"
   ]
  },
  {
   "cell_type": "code",
   "execution_count": 36,
   "id": "de103d48-29f2-45c7-87ed-4dc8f1237d56",
   "metadata": {
    "tags": []
   },
   "outputs": [
    {
     "name": "stdout",
     "output_type": "stream",
     "text": [
      "WARNING:tensorflow:Using a while_loop for converting RngReadAndSkip cause there is no registered converter for this op.\n",
      "WARNING:tensorflow:Using a while_loop for converting Bitcast cause there is no registered converter for this op.\n",
      "WARNING:tensorflow:Using a while_loop for converting Bitcast cause there is no registered converter for this op.\n",
      "WARNING:tensorflow:Using a while_loop for converting StatelessRandomUniformV2 cause there is no registered converter for this op.\n",
      "WARNING:tensorflow:Using a while_loop for converting ImageProjectiveTransformV3 cause there is no registered converter for this op.\n",
      "WARNING:tensorflow:Using a while_loop for converting RngReadAndSkip cause there is no registered converter for this op.\n",
      "WARNING:tensorflow:Using a while_loop for converting Bitcast cause there is no registered converter for this op.\n",
      "WARNING:tensorflow:Using a while_loop for converting Bitcast cause there is no registered converter for this op.\n",
      "WARNING:tensorflow:Using a while_loop for converting StatelessRandomUniformV2 cause there is no registered converter for this op.\n",
      "WARNING:tensorflow:Using a while_loop for converting ImageProjectiveTransformV3 cause there is no registered converter for this op.\n"
     ]
    }
   ],
   "source": [
    "inputs = keras.Input(shape=(IMG_SIZE, IMG_SIZE, 3))\n",
    "x = data_augmentation(inputs)\n",
    "x = keras.applications.resnet_v2.preprocess_input(x)\n",
    "x = base_model(x, training=False)\n",
    "x = layers.GlobalAveragePooling2D()(x) # Average pooling operation\n",
    "x = layers.BatchNormalization()(x) # Introduce batch norm\n",
    "x = layers.Dropout(0.2)(x)  # Regularize with dropout\n",
    "outputs = layers.Dense(120, activation='softmax')(x)\n",
    "model = tf.keras.Model(inputs, outputs)"
   ]
  },
  {
   "cell_type": "code",
   "execution_count": 37,
   "id": "d58d8911-978a-482e-b0e0-e354148d19d8",
   "metadata": {
    "tags": []
   },
   "outputs": [],
   "source": [
    "model = keras.Model(inputs, outputs)"
   ]
  },
  {
   "cell_type": "code",
   "execution_count": 38,
   "id": "890d6faa-6fc5-44d8-8422-0f68308a3e18",
   "metadata": {
    "tags": []
   },
   "outputs": [],
   "source": [
    "model.compile(optimizer=keras.optimizers.Adam(),\n",
    "              loss=keras.losses.CategoricalCrossentropy(),\n",
    "              metrics=[keras.metrics.CategoricalAccuracy()]\n",
    "              )"
   ]
  },
  {
   "cell_type": "code",
   "execution_count": 39,
   "id": "328189d4-8f17-4a36-bd01-d29fd04167c6",
   "metadata": {
    "tags": []
   },
   "outputs": [],
   "source": [
    "earlystopping = callbacks.EarlyStopping(monitor='val_loss', \n",
    "                                        mode='min', \n",
    "                                        patience=5, \n",
    "                                        restore_best_weights=True)"
   ]
  },
  {
   "cell_type": "code",
   "execution_count": 42,
   "id": "784ce951-5b9e-4d0c-aee2-c5bbc06eab19",
   "metadata": {
    "tags": []
   },
   "outputs": [
    {
     "name": "stdout",
     "output_type": "stream",
     "text": [
      "Epoch 1/25\n",
      "449/449 [==============================] - 147s 327ms/step - loss: 1.9920 - categorical_accuracy: 0.4933 - val_loss: 1.0778 - val_categorical_accuracy: 0.6929\n",
      "Epoch 2/25\n",
      "449/449 [==============================] - 146s 325ms/step - loss: 1.4593 - categorical_accuracy: 0.6047 - val_loss: 1.0545 - val_categorical_accuracy: 0.7143\n",
      "Epoch 3/25\n",
      "449/449 [==============================] - 146s 324ms/step - loss: 1.2599 - categorical_accuracy: 0.6536 - val_loss: 1.0904 - val_categorical_accuracy: 0.7088\n",
      "Epoch 4/25\n",
      "449/449 [==============================] - 146s 324ms/step - loss: 1.1708 - categorical_accuracy: 0.6763 - val_loss: 1.0686 - val_categorical_accuracy: 0.7145\n",
      "Epoch 5/25\n",
      "449/449 [==============================] - 145s 324ms/step - loss: 1.0743 - categorical_accuracy: 0.6954 - val_loss: 1.0713 - val_categorical_accuracy: 0.7178\n",
      "Epoch 6/25\n",
      "449/449 [==============================] - 147s 328ms/step - loss: 1.0116 - categorical_accuracy: 0.7080 - val_loss: 1.1013 - val_categorical_accuracy: 0.7164\n",
      "Epoch 7/25\n",
      "449/449 [==============================] - 147s 328ms/step - loss: 0.9752 - categorical_accuracy: 0.7175 - val_loss: 1.0997 - val_categorical_accuracy: 0.7156\n"
     ]
    }
   ],
   "source": [
    "EPOCHS = 25\n",
    "\n",
    "history = model.fit(train_dataset, \n",
    "                    epochs=EPOCHS, \n",
    "                    validation_data=validation_dataset, \n",
    "                    verbose=1,\n",
    "                    callbacks =[earlystopping])"
   ]
  },
  {
   "cell_type": "code",
   "execution_count": 44,
   "id": "782ccd34-6e01-452f-91eb-faab22af95d9",
   "metadata": {
    "tags": []
   },
   "outputs": [
    {
     "name": "stdout",
     "output_type": "stream",
     "text": [
      "34/34 [==============================] - 3s 77ms/step - loss: 0.9602 - categorical_accuracy: 0.7177\n"
     ]
    }
   ],
   "source": [
    "loss0, accuracy0 = model.evaluate(test_dataset)"
   ]
  },
  {
   "cell_type": "code",
   "execution_count": 45,
   "id": "344a9bcc-43ca-40a8-92fd-f4a5bd4667a3",
   "metadata": {
    "tags": []
   },
   "outputs": [
    {
     "data": {
      "image/png": "[encoded data removed]",
      "text/plain": [
       "<Figure size 640x480 with 1 Axes>"
      ]
     },
     "metadata": {},
     "output_type": "display_data"
    }
   ],
   "source": [
    "def plot_hist(hist):\n",
    "    plt.plot(hist.history['categorical_accuracy'])\n",
    "    plt.plot(hist.history['val_categorical_accuracy'])\n",
    "    plt.title('Categorical accuracy')\n",
    "    plt.ylabel('accuracy')\n",
    "    plt.xlabel('epoch')\n",
    "    plt.legend(['train', 'validation'], loc='upper left')\n",
    "    plt.show()\n",
    "\n",
    "plot_hist(history)"
   ]
  },
  {
   "cell_type": "code",
   "execution_count": null,
   "id": "b0f6b062-5601-48fc-9700-64f1f95d0e1a",
   "metadata": {},
   "outputs": [],
   "source": []
  }
 ],
 "metadata": {
  "kernelspec": {
   "display_name": "Python 3 (ipykernel)",
   "language": "python",
   "name": "python3"
  },
  "language_info": {
   "codemirror_mode": {
    "name": "ipython",
    "version": 3
   },
   "file_extension": ".py",
   "mimetype": "text/x-python",
   "name": "python",
   "nbconvert_exporter": "python",
   "pygments_lexer": "ipython3",
   "version": "3.8.10"
  }
 },
 "nbformat": 4,
 "nbformat_minor": 5
}
